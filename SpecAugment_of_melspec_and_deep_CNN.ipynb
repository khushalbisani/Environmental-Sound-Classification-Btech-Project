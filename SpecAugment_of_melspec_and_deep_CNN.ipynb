{
  "nbformat": 4,
  "nbformat_minor": 0,
  "metadata": {
    "colab": {
      "name": "SpecAugment_of_melspec_and_deep_CNN.ipynb",
      "provenance": [],
      "collapsed_sections": [],
      "include_colab_link": true
    },
    "kernelspec": {
      "name": "python3",
      "display_name": "Python 3"
    },
    "accelerator": "GPU"
  },
  "cells": [
    {
      "cell_type": "markdown",
      "metadata": {
        "id": "view-in-github",
        "colab_type": "text"
      },
      "source": [
        "<a href=\"https://colab.research.google.com/github/khushalbisani/Urban-Sound-Classification-Btech-Project/blob/master/SpecAugment_of_melspec_and_deep_CNN.ipynb\" target=\"_parent\"><img src=\"https://colab.research.google.com/assets/colab-badge.svg\" alt=\"Open In Colab\"/></a>"
      ]
    },
    {
      "cell_type": "code",
      "metadata": {
        "id": "2CXv_19DTByZ",
        "colab_type": "code",
        "outputId": "f9d6aea8-2b8f-46af-e86e-53276affceaa",
        "colab": {
          "base_uri": "https://localhost:8080/",
          "height": 238
        }
      },
      "source": [
        "!pip install numpy\n",
        "!pip install helpers\n",
        "!pip install soundfile\n",
        "import numpy as np\n",
        "import pandas as pd\n",
        "import matplotlib.pyplot as plt\n",
        "import tensorflow as tf\n",
        "import keras\n",
        "from keras.layers import Activation, Dense, Dropout, Conv2D, Flatten, MaxPooling2D ,GlobalAveragePooling2D\n",
        "from keras.models import Sequential\n",
        "import random\n",
        "import librosa\n",
        "import librosa.display\n",
        "import os\n",
        "import  IPython.display as ipd\n",
        "from scipy.io import wavfile as wav\n",
        "import helpers\n",
        "import soundfile as sf\n",
        "%matplotlib inline"
      ],
      "execution_count": 0,
      "outputs": [
        {
          "output_type": "stream",
          "text": [
            "Requirement already satisfied: numpy in /usr/local/lib/python3.6/dist-packages (1.16.5)\n",
            "Collecting helpers\n",
            "  Downloading https://files.pythonhosted.org/packages/c9/d8/c85a9dffe8a12a9a4c02aded04c21e2ac1c3c1f6e06913f19ef4fef96687/helpers-0.2.0-py3-none-any.whl\n",
            "Installing collected packages: helpers\n",
            "Successfully installed helpers-0.2.0\n",
            "Collecting soundfile\n",
            "  Downloading https://files.pythonhosted.org/packages/68/64/1191352221e2ec90db7492b4bf0c04fd9d2508de67b3f39cbf093cd6bd86/SoundFile-0.10.2-py2.py3-none-any.whl\n",
            "Requirement already satisfied: cffi>=1.0 in /usr/local/lib/python3.6/dist-packages (from soundfile) (1.12.3)\n",
            "Requirement already satisfied: pycparser in /usr/local/lib/python3.6/dist-packages (from cffi>=1.0->soundfile) (2.19)\n",
            "Installing collected packages: soundfile\n",
            "Successfully installed soundfile-0.10.2\n"
          ],
          "name": "stdout"
        },
        {
          "output_type": "stream",
          "text": [
            "Using TensorFlow backend.\n"
          ],
          "name": "stderr"
        }
      ]
    },
    {
      "cell_type": "code",
      "metadata": {
        "id": "CFEzpFktlVvo",
        "colab_type": "code",
        "outputId": "d59cd7ed-3bfc-454b-d8f5-a4e2de8b0b97",
        "colab": {
          "base_uri": "https://localhost:8080/",
          "height": 121
        }
      },
      "source": [
        "from google.colab import drive\n",
        "drive.mount('/content/drive/')"
      ],
      "execution_count": 0,
      "outputs": [
        {
          "output_type": "stream",
          "text": [
            "Go to this URL in a browser: https://accounts.google.com/o/oauth2/auth?client_id=947318989803-6bn6qk8qdgf4n4g3pfee6491hc0brc4i.apps.googleusercontent.com&redirect_uri=urn%3Aietf%3Awg%3Aoauth%3A2.0%3Aoob&scope=email%20https%3A%2F%2Fwww.googleapis.com%2Fauth%2Fdocs.test%20https%3A%2F%2Fwww.googleapis.com%2Fauth%2Fdrive%20https%3A%2F%2Fwww.googleapis.com%2Fauth%2Fdrive.photos.readonly%20https%3A%2F%2Fwww.googleapis.com%2Fauth%2Fpeopleapi.readonly&response_type=code\n",
            "\n",
            "Enter your authorization code:\n",
            "··········\n",
            "Mounted at /content/drive/\n"
          ],
          "name": "stdout"
        }
      ]
    },
    {
      "cell_type": "code",
      "metadata": {
        "id": "12E0-S0slV5O",
        "colab_type": "code",
        "colab": {}
      },
      "source": [
        "# import nlpaug.augmenter.spectrogram as nas\n",
        "# import nlpaug.flow as naf\n",
        "# from nlpaug.util.file.load import LoadUtil\n",
        "# from nlpaug.util.visual.spectrogram import VisualSpectrogram"
      ],
      "execution_count": 0,
      "outputs": []
    },
    {
      "cell_type": "code",
      "metadata": {
        "id": "4kPr7cp6qry_",
        "colab_type": "code",
        "outputId": "231aa166-ddf5-4fd2-8e2a-9773b0501c32",
        "colab": {
          "base_uri": "https://localhost:8080/",
          "height": 118
        }
      },
      "source": [
        "!ls \"/content/drive/My Drive\""
      ],
      "execution_count": 0,
      "outputs": [
        {
          "output_type": "stream",
          "text": [
            "'Colab Notebooks'\n",
            "'Getting started.pdf'\n",
            " Noisy_Sound_Classification\n",
            "'NOISY SOUND CLASSIFICATION USING DEEP LEARNING.gdoc'\n",
            " Report.gdoc\n",
            "'Untitled Diagram.drawio'\n"
          ],
          "name": "stdout"
        }
      ]
    },
    {
      "cell_type": "code",
      "metadata": {
        "id": "uWifCKHWqsIx",
        "colab_type": "code",
        "colab": {}
      },
      "source": [
        "os.chdir(\"/content/drive/My Drive/Noisy_Sound_Classification\")\n"
      ],
      "execution_count": 0,
      "outputs": []
    },
    {
      "cell_type": "code",
      "metadata": {
        "id": "eawC4qrqrOFD",
        "colab_type": "code",
        "outputId": "3b0ac062-b35b-4d11-ab73-bf95cbb635bf",
        "colab": {
          "base_uri": "https://localhost:8080/",
          "height": 67
        }
      },
      "source": [
        "! free -m"
      ],
      "execution_count": 0,
      "outputs": [
        {
          "output_type": "stream",
          "text": [
            "              total        used        free      shared  buff/cache   available\n",
            "Mem:          13022         689       10088           0        2245       12066\n",
            "Swap:             0           0           0\n"
          ],
          "name": "stdout"
        }
      ]
    },
    {
      "cell_type": "code",
      "metadata": {
        "id": "fXuzhTAflV__",
        "colab_type": "code",
        "outputId": "4f5f23ce-1fa1-45f7-c26a-a3e9a8377a28",
        "colab": {
          "base_uri": "https://localhost:8080/",
          "height": 195
        }
      },
      "source": [
        "path = \"/content/drive/My Drive/Noisy_Sound_Classification/UrbanSound8K/\"\n",
        "data = pd.read_csv(path + \"metadata/UrbanSound8K.csv\")\n",
        "data.head()"
      ],
      "execution_count": 0,
      "outputs": [
        {
          "output_type": "execute_result",
          "data": {
            "text/html": [
              "<div>\n",
              "<style scoped>\n",
              "    .dataframe tbody tr th:only-of-type {\n",
              "        vertical-align: middle;\n",
              "    }\n",
              "\n",
              "    .dataframe tbody tr th {\n",
              "        vertical-align: top;\n",
              "    }\n",
              "\n",
              "    .dataframe thead th {\n",
              "        text-align: right;\n",
              "    }\n",
              "</style>\n",
              "<table border=\"1\" class=\"dataframe\">\n",
              "  <thead>\n",
              "    <tr style=\"text-align: right;\">\n",
              "      <th></th>\n",
              "      <th>slice_file_name</th>\n",
              "      <th>fsID</th>\n",
              "      <th>start</th>\n",
              "      <th>end</th>\n",
              "      <th>salience</th>\n",
              "      <th>fold</th>\n",
              "      <th>classID</th>\n",
              "      <th>class</th>\n",
              "    </tr>\n",
              "  </thead>\n",
              "  <tbody>\n",
              "    <tr>\n",
              "      <th>0</th>\n",
              "      <td>100032-3-0-0.wav</td>\n",
              "      <td>100032</td>\n",
              "      <td>0.0</td>\n",
              "      <td>0.317551</td>\n",
              "      <td>1</td>\n",
              "      <td>5</td>\n",
              "      <td>3</td>\n",
              "      <td>dog_bark</td>\n",
              "    </tr>\n",
              "    <tr>\n",
              "      <th>1</th>\n",
              "      <td>100263-2-0-117.wav</td>\n",
              "      <td>100263</td>\n",
              "      <td>58.5</td>\n",
              "      <td>62.500000</td>\n",
              "      <td>1</td>\n",
              "      <td>5</td>\n",
              "      <td>2</td>\n",
              "      <td>children_playing</td>\n",
              "    </tr>\n",
              "    <tr>\n",
              "      <th>2</th>\n",
              "      <td>100263-2-0-121.wav</td>\n",
              "      <td>100263</td>\n",
              "      <td>60.5</td>\n",
              "      <td>64.500000</td>\n",
              "      <td>1</td>\n",
              "      <td>5</td>\n",
              "      <td>2</td>\n",
              "      <td>children_playing</td>\n",
              "    </tr>\n",
              "    <tr>\n",
              "      <th>3</th>\n",
              "      <td>100263-2-0-126.wav</td>\n",
              "      <td>100263</td>\n",
              "      <td>63.0</td>\n",
              "      <td>67.000000</td>\n",
              "      <td>1</td>\n",
              "      <td>5</td>\n",
              "      <td>2</td>\n",
              "      <td>children_playing</td>\n",
              "    </tr>\n",
              "    <tr>\n",
              "      <th>4</th>\n",
              "      <td>100263-2-0-137.wav</td>\n",
              "      <td>100263</td>\n",
              "      <td>68.5</td>\n",
              "      <td>72.500000</td>\n",
              "      <td>1</td>\n",
              "      <td>5</td>\n",
              "      <td>2</td>\n",
              "      <td>children_playing</td>\n",
              "    </tr>\n",
              "  </tbody>\n",
              "</table>\n",
              "</div>"
            ],
            "text/plain": [
              "      slice_file_name    fsID  start  ...  fold  classID             class\n",
              "0    100032-3-0-0.wav  100032    0.0  ...     5        3          dog_bark\n",
              "1  100263-2-0-117.wav  100263   58.5  ...     5        2  children_playing\n",
              "2  100263-2-0-121.wav  100263   60.5  ...     5        2  children_playing\n",
              "3  100263-2-0-126.wav  100263   63.0  ...     5        2  children_playing\n",
              "4  100263-2-0-137.wav  100263   68.5  ...     5        2  children_playing\n",
              "\n",
              "[5 rows x 8 columns]"
            ]
          },
          "metadata": {
            "tags": []
          },
          "execution_count": 7
        }
      ]
    },
    {
      "cell_type": "markdown",
      "metadata": {
        "id": "Ty06dtD0lWDN",
        "colab_type": "text"
      },
      "source": [
        "Augmentation"
      ]
    },
    {
      "cell_type": "code",
      "metadata": {
        "id": "GRJ_VgO6lWHC",
        "colab_type": "code",
        "colab": {}
      },
      "source": [
        "# train_x = np.load(\"np_array_train_x.npy\") \n",
        "# train_y = np.load(\"np_array_train_y.npy\")\n",
        "# test_x = np.load(\"np_array_test_x.npy\")\n",
        "# test_y = np.load(\"np_array_test_y.npy\")"
      ],
      "execution_count": 0,
      "outputs": []
    },
    {
      "cell_type": "code",
      "metadata": {
        "id": "H8mDEdhPlWLF",
        "colab_type": "code",
        "colab": {}
      },
      "source": [
        "# print(train_x.shape)\n",
        "# print(train_y.shape)\n",
        "# print(test_x.shape)\n",
        "# print(test_y.shape)"
      ],
      "execution_count": 0,
      "outputs": []
    },
    {
      "cell_type": "code",
      "metadata": {
        "id": "lgG3ckM-lWOw",
        "colab_type": "code",
        "colab": {}
      },
      "source": [
        "# train_x = np.array([x.reshape((128,128)) for x in train_x]) \n",
        "# test_x = np.array([x.reshape((128,128)) for x in test_x])"
      ],
      "execution_count": 0,
      "outputs": []
    },
    {
      "cell_type": "code",
      "metadata": {
        "id": "ANG8T2IPlWS4",
        "colab_type": "code",
        "colab": {}
      },
      "source": [
        "# print(train_x.shape)\n",
        "# print(train_y.shape)\n",
        "# print(test_x.shape)\n",
        "# print(test_y.shape)"
      ],
      "execution_count": 0,
      "outputs": []
    },
    {
      "cell_type": "code",
      "metadata": {
        "id": "Yrtx0Et4lWXd",
        "colab_type": "code",
        "colab": {}
      },
      "source": [
        "# list_fm = []\n",
        "# list_tm = []\n",
        "# aug_fm = nas.FrequencyMaskingAug(mask_factor=80)\n",
        "# aug_tm = nas.TimeMaskingAug(mask_factor=80)"
      ],
      "execution_count": 0,
      "outputs": []
    },
    {
      "cell_type": "code",
      "metadata": {
        "id": "Xcig44galWbw",
        "colab_type": "code",
        "colab": {}
      },
      "source": [
        "# for i in range(0,6500):\n",
        "#     augmented_mspec_fm = aug_fm.substitute(train_x[i])\n",
        "#     augmented_mspec_tm = aug_tm.substitute(train_x[i])\n",
        "#     list_fm.append((train_x[i],train_y[i]))\n",
        "#     list_fm.append((augmented_mspec_fm,train_y[i]))\n",
        "#     list_tm.append((train_x[i],train_y[i]))\n",
        "#     list_tm.append((augmented_mspec_tm,train_y[i]))\n",
        "#     print(i)\n",
        "    "
      ],
      "execution_count": 0,
      "outputs": []
    },
    {
      "cell_type": "code",
      "metadata": {
        "id": "txkimS0HlWgL",
        "colab_type": "code",
        "colab": {}
      },
      "source": [
        "# for i in range(0,967):\n",
        "#     augmented_mspec_fm = aug_fm.substitute(test_x[i])\n",
        "#     augmented_mspec_tm = aug_tm.substitute(test_x[i])\n",
        "#     list_fm.append((test_x[i],test_y[i]))\n",
        "#     list_fm.append((augmented_mspec_fm,test_y[i]))\n",
        "#     list_tm.append((test_x[i],test_y[i]))\n",
        "#     list_tm.append((augmented_mspec_tm,test_y[i]))\n",
        "#     print(i)\n",
        "    "
      ],
      "execution_count": 0,
      "outputs": []
    },
    {
      "cell_type": "code",
      "metadata": {
        "id": "718U3ArSlWlB",
        "colab_type": "code",
        "colab": {}
      },
      "source": [
        "# len(list_fm)"
      ],
      "execution_count": 0,
      "outputs": []
    },
    {
      "cell_type": "code",
      "metadata": {
        "id": "ese8tNzdlWqY",
        "colab_type": "code",
        "colab": {}
      },
      "source": [
        "# len(list_tm)"
      ],
      "execution_count": 0,
      "outputs": []
    },
    {
      "cell_type": "markdown",
      "metadata": {
        "id": "DRNDesn_lWuY",
        "colab_type": "text"
      },
      "source": [
        "Saving FM data"
      ]
    },
    {
      "cell_type": "code",
      "metadata": {
        "id": "c4i_0LMMlWzm",
        "colab_type": "code",
        "colab": {}
      },
      "source": [
        "# import random\n",
        "# ms_data_fm = list_fm\n",
        "# random.shuffle(ms_data_fm)\n",
        "\n",
        "# train_fm = ms_data_fm[:12500]\n",
        "# test_fm = ms_data_fm[12500:]\n",
        "\n",
        "# train_x_fm , train_y_fm = zip(*train_fm)\n",
        "# test_x_fm , test_y_fm = zip(*test_fm)\n",
        "\n",
        "# train_x_fm = np.array([x.reshape((128,128,1)) for x in train_x_fm]) \n",
        "# test_x_fm = np.array([x.reshape((128,128,1)) for x in test_x_fm])\n"
      ],
      "execution_count": 0,
      "outputs": []
    },
    {
      "cell_type": "code",
      "metadata": {
        "id": "410ar9JalW5E",
        "colab_type": "code",
        "colab": {}
      },
      "source": [
        "# train_y_fm = np.array(train_y_fm)\n",
        "# test_y_fm = np.array(test_y_fm)"
      ],
      "execution_count": 0,
      "outputs": []
    },
    {
      "cell_type": "code",
      "metadata": {
        "id": "GStxHU7ylW9Q",
        "colab_type": "code",
        "colab": {}
      },
      "source": [
        "# print(train_x_fm.shape)\n",
        "# print(train_y_fm.shape)\n",
        "# print(test_x_fm.shape)\n",
        "# print(test_y_fm.shape)"
      ],
      "execution_count": 0,
      "outputs": []
    },
    {
      "cell_type": "code",
      "metadata": {
        "id": "fczd4jKnn64c",
        "colab_type": "code",
        "colab": {}
      },
      "source": [
        "# np.save('aug_data//np_array_train_x_fm.npy', train_x_fm)\n",
        "# np.save('aug_data//np_array_train_y_fm.npy', train_y_fm)\n",
        "# np.save('aug_data//np_array_test_x_fm.npy', test_x_fm)\n",
        "# np.save('aug_data//np_array_test_y_fm.npy', test_y_fm) "
      ],
      "execution_count": 0,
      "outputs": []
    },
    {
      "cell_type": "markdown",
      "metadata": {
        "id": "SBFL-jAbn6-3",
        "colab_type": "text"
      },
      "source": [
        "Saving TM data"
      ]
    },
    {
      "cell_type": "code",
      "metadata": {
        "id": "ICIjOy3On7Dg",
        "colab_type": "code",
        "colab": {}
      },
      "source": [
        "# import random\n",
        "# ms_data_tm = list_tm\n",
        "# random.shuffle(ms_data_tm)\n",
        "\n",
        "# train_tm = ms_data_tm[:12500]\n",
        "# test_tm = ms_data_tm[12500:]\n",
        "\n",
        "# train_x_tm , train_y_tm = zip(*train_tm)\n",
        "# test_x_tm , test_y_tm = zip(*test_tm)\n",
        "\n",
        "# train_x_tm = np.array([x.reshape((128,128,1)) for x in train_x_tm]) \n",
        "# test_x_tm = np.array([x.reshape((128,128,1)) for x in test_x_tm])\n"
      ],
      "execution_count": 0,
      "outputs": []
    },
    {
      "cell_type": "code",
      "metadata": {
        "id": "tHppNs8yn7Jf",
        "colab_type": "code",
        "colab": {}
      },
      "source": [
        "# train_y_tm = np.array(train_y_tm)\n",
        "# test_y_tm = np.array(test_y_tm)"
      ],
      "execution_count": 0,
      "outputs": []
    },
    {
      "cell_type": "code",
      "metadata": {
        "id": "5a1NyS9Cn7OR",
        "colab_type": "code",
        "colab": {}
      },
      "source": [
        "# print(train_x_tm.shape)\n",
        "# print(train_y_tm.shape)\n",
        "# print(test_x_tm.shape)\n",
        "# print(test_y_tm.shape)"
      ],
      "execution_count": 0,
      "outputs": []
    },
    {
      "cell_type": "code",
      "metadata": {
        "id": "0HF_jjbMn7R_",
        "colab_type": "code",
        "colab": {}
      },
      "source": [
        "# np.save('aug_data//np_array_train_x_tm.npy', train_x_tm)\n",
        "# np.save('aug_data//np_array_train_y_tm.npy', train_y_tm)\n",
        "# np.save('aug_data//np_array_test_x_tm.npy', test_x_tm)\n",
        "# np.save('aug_data//np_array_test_y_tm.npy', test_y_tm) "
      ],
      "execution_count": 0,
      "outputs": []
    },
    {
      "cell_type": "markdown",
      "metadata": {
        "id": "NLU_tcbSsDcY",
        "colab_type": "text"
      },
      "source": [
        "Import Augmented data"
      ]
    },
    {
      "cell_type": "code",
      "metadata": {
        "id": "Rt1F2p0an7Vy",
        "colab_type": "code",
        "outputId": "37576eec-b1fa-4f10-80c9-fbbe7c8c9f4a",
        "colab": {
          "base_uri": "https://localhost:8080/",
          "height": 67
        }
      },
      "source": [
        "!ls \"/content/drive/My Drive/Noisy_Sound_Classification/UrbanSound8K/aug_data\""
      ],
      "execution_count": 0,
      "outputs": [
        {
          "output_type": "stream",
          "text": [
            "np_array_test_x_fm.npy\tnp_array_test_y_tm.npy\t np_array_train_y_fm.npy\n",
            "np_array_test_x_tm.npy\tnp_array_train_x_fm.npy  np_array_train_y_tm.npy\n",
            "np_array_test_y_fm.npy\tnp_array_train_x_tm.npy\n"
          ],
          "name": "stdout"
        }
      ]
    },
    {
      "cell_type": "markdown",
      "metadata": {
        "id": "itOvUVlTn7Zd",
        "colab_type": "text"
      },
      "source": [
        "Apply CNN on FM aug data"
      ]
    },
    {
      "cell_type": "code",
      "metadata": {
        "id": "oHH7XpkMtFtM",
        "colab_type": "code",
        "colab": {}
      },
      "source": [
        "train_x_fm = np.load('/content/drive/My Drive/Noisy_Sound_Classification/UrbanSound8K/aug_data/np_array_train_x_fm.npy')\n",
        "train_y_fm = np.load('/content/drive/My Drive/Noisy_Sound_Classification/UrbanSound8K/aug_data/np_array_train_y_fm.npy')\n",
        "test_x_fm = np.load('/content/drive/My Drive/Noisy_Sound_Classification/UrbanSound8K/aug_data/np_array_test_x_fm.npy')\n",
        "test_y_fm = np.load('/content/drive/My Drive/Noisy_Sound_Classification/UrbanSound8K/aug_data/np_array_test_y_fm.npy')"
      ],
      "execution_count": 0,
      "outputs": []
    },
    {
      "cell_type": "code",
      "metadata": {
        "id": "2iyoXKhltFyj",
        "colab_type": "code",
        "outputId": "739efed9-7891-423e-aed1-02f77d6dc91c",
        "colab": {
          "base_uri": "https://localhost:8080/",
          "height": 84
        }
      },
      "source": [
        "print(train_x_fm.shape)\n",
        "print(train_y_fm.shape)\n",
        "print(test_x_fm.shape)\n",
        "print(test_y_fm.shape)"
      ],
      "execution_count": 0,
      "outputs": [
        {
          "output_type": "stream",
          "text": [
            "(12500, 128, 128, 1)\n",
            "(12500, 10)\n",
            "(2434, 128, 128, 1)\n",
            "(2434, 10)\n"
          ],
          "name": "stdout"
        }
      ]
    },
    {
      "cell_type": "code",
      "metadata": {
        "id": "JNHCyy-2tF1f",
        "colab_type": "code",
        "outputId": "300e1c64-2cf1-4dfc-fb79-859aa2aa2d5c",
        "colab": {
          "base_uri": "https://localhost:8080/",
          "height": 171
        }
      },
      "source": [
        "model = Sequential()\n",
        "input_shape=(128, 128, 1)\n",
        "\n",
        "model.add(Conv2D(24, (5, 5), strides=(1, 1), input_shape=input_shape))\n",
        "model.add(MaxPooling2D((4, 2), strides=(4, 2)))\n",
        "model.add(Activation('relu'))\n",
        "\n",
        "model.add(Conv2D(48, (5, 5), padding=\"valid\"))\n",
        "model.add(MaxPooling2D((4, 2), strides=(4, 2)))\n",
        "model.add(Activation('relu'))\n",
        "\n",
        "model.add(Conv2D(48, (5, 5), padding=\"valid\"))\n",
        "model.add(Activation('relu'))\n",
        "\n",
        "# model.add(Flatten())\n",
        "# model.add(Dropout(rate=0.5))\n",
        "\n",
        "# model.add(Dense(64))\n",
        "# model.add(Activation('relu'))\n",
        "# model.add(Dropout(rate=0.5))\n",
        "\n",
        "model.add(GlobalAveragePooling2D())\n",
        "\n",
        "model.add(Dense(10))\n",
        "model.add(Activation('softmax'))"
      ],
      "execution_count": 0,
      "outputs": [
        {
          "output_type": "stream",
          "text": [
            "WARNING:tensorflow:From /usr/local/lib/python3.6/dist-packages/keras/backend/tensorflow_backend.py:66: The name tf.get_default_graph is deprecated. Please use tf.compat.v1.get_default_graph instead.\n",
            "\n",
            "WARNING:tensorflow:From /usr/local/lib/python3.6/dist-packages/keras/backend/tensorflow_backend.py:541: The name tf.placeholder is deprecated. Please use tf.compat.v1.placeholder instead.\n",
            "\n",
            "WARNING:tensorflow:From /usr/local/lib/python3.6/dist-packages/keras/backend/tensorflow_backend.py:4432: The name tf.random_uniform is deprecated. Please use tf.random.uniform instead.\n",
            "\n",
            "WARNING:tensorflow:From /usr/local/lib/python3.6/dist-packages/keras/backend/tensorflow_backend.py:4267: The name tf.nn.max_pool is deprecated. Please use tf.nn.max_pool2d instead.\n",
            "\n"
          ],
          "name": "stdout"
        }
      ]
    },
    {
      "cell_type": "code",
      "metadata": {
        "id": "SNPgo5mjtF4V",
        "colab_type": "code",
        "outputId": "c62b51d6-ab49-4136-c60d-22c39c3e588d",
        "colab": {
          "base_uri": "https://localhost:8080/",
          "height": 521
        }
      },
      "source": [
        "model.summary()"
      ],
      "execution_count": 0,
      "outputs": [
        {
          "output_type": "stream",
          "text": [
            "Model: \"sequential_1\"\n",
            "_________________________________________________________________\n",
            "Layer (type)                 Output Shape              Param #   \n",
            "=================================================================\n",
            "conv2d_1 (Conv2D)            (None, 124, 124, 24)      624       \n",
            "_________________________________________________________________\n",
            "max_pooling2d_1 (MaxPooling2 (None, 31, 62, 24)        0         \n",
            "_________________________________________________________________\n",
            "activation_1 (Activation)    (None, 31, 62, 24)        0         \n",
            "_________________________________________________________________\n",
            "conv2d_2 (Conv2D)            (None, 27, 58, 48)        28848     \n",
            "_________________________________________________________________\n",
            "max_pooling2d_2 (MaxPooling2 (None, 6, 29, 48)         0         \n",
            "_________________________________________________________________\n",
            "activation_2 (Activation)    (None, 6, 29, 48)         0         \n",
            "_________________________________________________________________\n",
            "conv2d_3 (Conv2D)            (None, 2, 25, 48)         57648     \n",
            "_________________________________________________________________\n",
            "activation_3 (Activation)    (None, 2, 25, 48)         0         \n",
            "_________________________________________________________________\n",
            "global_average_pooling2d_1 ( (None, 48)                0         \n",
            "_________________________________________________________________\n",
            "dense_1 (Dense)              (None, 10)                490       \n",
            "_________________________________________________________________\n",
            "activation_4 (Activation)    (None, 10)                0         \n",
            "=================================================================\n",
            "Total params: 87,610\n",
            "Trainable params: 87,610\n",
            "Non-trainable params: 0\n",
            "_________________________________________________________________\n"
          ],
          "name": "stdout"
        }
      ]
    },
    {
      "cell_type": "code",
      "metadata": {
        "id": "By5fAGQRq9ro",
        "colab_type": "code",
        "colab": {}
      },
      "source": [
        "from keras.callbacks import ReduceLROnPlateau\n",
        "learning_rate_reduction = ReduceLROnPlateau(monitor='val_acc', \n",
        "                                            patience=3, \n",
        "                                            verbose=1, \n",
        "                                            factor=0.2, \n",
        "                                            min_lr=0.0001)"
      ],
      "execution_count": 0,
      "outputs": []
    },
    {
      "cell_type": "code",
      "metadata": {
        "id": "IZXtREvHtF7g",
        "colab_type": "code",
        "outputId": "f9b7bf93-f94e-4990-aa46-ffe40d34d845",
        "colab": {
          "base_uri": "https://localhost:8080/",
          "height": 1000
        }
      },
      "source": [
        "model.compile(\n",
        "\toptimizer=\"Adam\",\n",
        "\tloss=\"categorical_crossentropy\",\n",
        "\tmetrics=['accuracy'])\n",
        "\n",
        "history = model.fit(\n",
        "\tx=train_x_fm, \n",
        "\ty=train_y_fm,\n",
        "  epochs=50,\n",
        "  batch_size=64,\n",
        "  callbacks = [learning_rate_reduction],\n",
        "  validation_data= (test_x_fm, test_y_fm))\n",
        "\n",
        "score = model.evaluate(\n",
        "\tx=test_x_fm,\n",
        "\ty=test_y_fm)\n",
        "\n",
        "print('Test loss:', score[0])\n",
        "print('Test accuracy:', score[1])"
      ],
      "execution_count": 0,
      "outputs": [
        {
          "output_type": "stream",
          "text": [
            "WARNING:tensorflow:From /usr/local/lib/python3.6/dist-packages/keras/optimizers.py:793: The name tf.train.Optimizer is deprecated. Please use tf.compat.v1.train.Optimizer instead.\n",
            "\n",
            "WARNING:tensorflow:From /usr/local/lib/python3.6/dist-packages/keras/backend/tensorflow_backend.py:3576: The name tf.log is deprecated. Please use tf.math.log instead.\n",
            "\n",
            "WARNING:tensorflow:From /usr/local/lib/python3.6/dist-packages/tensorflow/python/ops/math_grad.py:1250: add_dispatch_support.<locals>.wrapper (from tensorflow.python.ops.array_ops) is deprecated and will be removed in a future version.\n",
            "Instructions for updating:\n",
            "Use tf.where in 2.0, which has the same broadcast rule as np.where\n",
            "WARNING:tensorflow:From /usr/local/lib/python3.6/dist-packages/keras/backend/tensorflow_backend.py:1033: The name tf.assign_add is deprecated. Please use tf.compat.v1.assign_add instead.\n",
            "\n",
            "Train on 12500 samples, validate on 2434 samples\n",
            "Epoch 1/50\n",
            "12500/12500 [==============================] - 12s 935us/step - loss: 1.9850 - acc: 0.3385 - val_loss: 1.7230 - val_acc: 0.4129\n",
            "Epoch 2/50\n",
            "12500/12500 [==============================] - 4s 303us/step - loss: 1.5368 - acc: 0.4841 - val_loss: 1.6012 - val_acc: 0.4630\n",
            "Epoch 3/50\n",
            "12500/12500 [==============================] - 4s 303us/step - loss: 1.4192 - acc: 0.5226 - val_loss: 1.2782 - val_acc: 0.5740\n",
            "Epoch 4/50\n",
            "12500/12500 [==============================] - 4s 306us/step - loss: 1.2507 - acc: 0.5826 - val_loss: 1.1929 - val_acc: 0.5920\n",
            "Epoch 5/50\n",
            "12500/12500 [==============================] - 4s 305us/step - loss: 1.1703 - acc: 0.6153 - val_loss: 1.1662 - val_acc: 0.6019\n",
            "Epoch 6/50\n",
            "12500/12500 [==============================] - 4s 307us/step - loss: 1.0965 - acc: 0.6394 - val_loss: 1.0186 - val_acc: 0.6590\n",
            "Epoch 7/50\n",
            "12500/12500 [==============================] - 4s 306us/step - loss: 1.0368 - acc: 0.6604 - val_loss: 0.9719 - val_acc: 0.6886\n",
            "Epoch 8/50\n",
            "12500/12500 [==============================] - 4s 305us/step - loss: 0.9687 - acc: 0.6834 - val_loss: 0.9436 - val_acc: 0.6861\n",
            "Epoch 9/50\n",
            "12500/12500 [==============================] - 4s 303us/step - loss: 0.9170 - acc: 0.6990 - val_loss: 0.9083 - val_acc: 0.7141\n",
            "Epoch 10/50\n",
            "12500/12500 [==============================] - 4s 305us/step - loss: 0.8876 - acc: 0.7073 - val_loss: 0.8605 - val_acc: 0.7375\n",
            "Epoch 11/50\n",
            "12500/12500 [==============================] - 4s 308us/step - loss: 0.8205 - acc: 0.7316 - val_loss: 0.8649 - val_acc: 0.7317\n",
            "Epoch 12/50\n",
            "12500/12500 [==============================] - 4s 305us/step - loss: 0.7617 - acc: 0.7558 - val_loss: 0.8793 - val_acc: 0.7477\n",
            "Epoch 13/50\n",
            "12500/12500 [==============================] - 4s 303us/step - loss: 0.7530 - acc: 0.7514 - val_loss: 0.8182 - val_acc: 0.7498\n",
            "Epoch 14/50\n",
            "12500/12500 [==============================] - 4s 306us/step - loss: 0.6835 - acc: 0.7774 - val_loss: 0.7081 - val_acc: 0.7872\n",
            "Epoch 15/50\n",
            "12500/12500 [==============================] - 4s 307us/step - loss: 0.7821 - acc: 0.7522 - val_loss: 0.8823 - val_acc: 0.7547\n",
            "Epoch 16/50\n",
            "12500/12500 [==============================] - 4s 308us/step - loss: 0.7151 - acc: 0.7732 - val_loss: 0.7810 - val_acc: 0.7679\n",
            "Epoch 17/50\n",
            "12500/12500 [==============================] - 4s 308us/step - loss: 0.6443 - acc: 0.7948 - val_loss: 0.6754 - val_acc: 0.7983\n",
            "Epoch 18/50\n",
            "12500/12500 [==============================] - 4s 308us/step - loss: 0.6538 - acc: 0.7927 - val_loss: 0.6754 - val_acc: 0.8012\n",
            "Epoch 19/50\n",
            "12500/12500 [==============================] - 4s 310us/step - loss: 0.5781 - acc: 0.8087 - val_loss: 0.6844 - val_acc: 0.7979\n",
            "Epoch 20/50\n",
            "12500/12500 [==============================] - 4s 307us/step - loss: 0.5973 - acc: 0.8062 - val_loss: 0.7269 - val_acc: 0.7868\n",
            "Epoch 21/50\n",
            "12500/12500 [==============================] - 4s 307us/step - loss: 0.5848 - acc: 0.8068 - val_loss: 0.6868 - val_acc: 0.7979\n",
            "\n",
            "Epoch 00021: ReduceLROnPlateau reducing learning rate to 0.00020000000949949026.\n",
            "Epoch 22/50\n",
            "12500/12500 [==============================] - 4s 297us/step - loss: 0.4853 - acc: 0.8417 - val_loss: 0.6116 - val_acc: 0.8151\n",
            "Epoch 23/50\n",
            "12500/12500 [==============================] - 4s 297us/step - loss: 0.4696 - acc: 0.8470 - val_loss: 0.6268 - val_acc: 0.8233\n",
            "Epoch 24/50\n",
            "12500/12500 [==============================] - 4s 296us/step - loss: 0.4542 - acc: 0.8526 - val_loss: 0.6020 - val_acc: 0.8316\n",
            "Epoch 25/50\n",
            "12500/12500 [==============================] - 4s 298us/step - loss: 0.4429 - acc: 0.8548 - val_loss: 0.5992 - val_acc: 0.8311\n",
            "Epoch 26/50\n",
            "12500/12500 [==============================] - 4s 298us/step - loss: 0.4348 - acc: 0.8554 - val_loss: 0.6043 - val_acc: 0.8348\n",
            "Epoch 27/50\n",
            "12500/12500 [==============================] - 4s 296us/step - loss: 0.4265 - acc: 0.8586 - val_loss: 0.5873 - val_acc: 0.8316\n",
            "Epoch 28/50\n",
            "12500/12500 [==============================] - 4s 298us/step - loss: 0.4215 - acc: 0.8626 - val_loss: 0.5825 - val_acc: 0.8389\n",
            "Epoch 29/50\n",
            "12500/12500 [==============================] - 4s 299us/step - loss: 0.4146 - acc: 0.8646 - val_loss: 0.5778 - val_acc: 0.8361\n",
            "Epoch 30/50\n",
            "12500/12500 [==============================] - 4s 296us/step - loss: 0.4092 - acc: 0.8632 - val_loss: 0.5904 - val_acc: 0.8398\n",
            "Epoch 31/50\n",
            "12500/12500 [==============================] - 4s 297us/step - loss: 0.4026 - acc: 0.8660 - val_loss: 0.5921 - val_acc: 0.8414\n",
            "Epoch 32/50\n",
            "12500/12500 [==============================] - 4s 297us/step - loss: 0.3980 - acc: 0.8669 - val_loss: 0.5755 - val_acc: 0.8402\n",
            "Epoch 33/50\n",
            "12500/12500 [==============================] - 4s 297us/step - loss: 0.3894 - acc: 0.8716 - val_loss: 0.5875 - val_acc: 0.8365\n",
            "Epoch 34/50\n",
            "12500/12500 [==============================] - 4s 300us/step - loss: 0.3835 - acc: 0.8716 - val_loss: 0.5792 - val_acc: 0.8431\n",
            "Epoch 35/50\n",
            "12500/12500 [==============================] - 4s 307us/step - loss: 0.3788 - acc: 0.8742 - val_loss: 0.5912 - val_acc: 0.8410\n",
            "Epoch 36/50\n",
            "12500/12500 [==============================] - 4s 305us/step - loss: 0.3733 - acc: 0.8760 - val_loss: 0.5845 - val_acc: 0.8410\n",
            "Epoch 37/50\n",
            "12500/12500 [==============================] - 4s 300us/step - loss: 0.3689 - acc: 0.8769 - val_loss: 0.5788 - val_acc: 0.8459\n",
            "Epoch 38/50\n",
            "12500/12500 [==============================] - 4s 298us/step - loss: 0.3618 - acc: 0.8797 - val_loss: 0.6033 - val_acc: 0.8369\n",
            "Epoch 39/50\n",
            "12500/12500 [==============================] - 4s 300us/step - loss: 0.3619 - acc: 0.8818 - val_loss: 0.6043 - val_acc: 0.8418\n",
            "Epoch 40/50\n",
            "12500/12500 [==============================] - 4s 298us/step - loss: 0.3691 - acc: 0.8793 - val_loss: 0.6024 - val_acc: 0.8439\n",
            "\n",
            "Epoch 00040: ReduceLROnPlateau reducing learning rate to 0.0001.\n",
            "Epoch 41/50\n",
            "12500/12500 [==============================] - 4s 301us/step - loss: 0.3492 - acc: 0.8861 - val_loss: 0.5648 - val_acc: 0.8463\n",
            "Epoch 42/50\n",
            "12500/12500 [==============================] - 4s 300us/step - loss: 0.3398 - acc: 0.8891 - val_loss: 0.5759 - val_acc: 0.8488\n",
            "Epoch 43/50\n",
            "12500/12500 [==============================] - 4s 302us/step - loss: 0.3361 - acc: 0.8906 - val_loss: 0.5684 - val_acc: 0.8521\n",
            "Epoch 44/50\n",
            "12500/12500 [==============================] - 4s 299us/step - loss: 0.3328 - acc: 0.8907 - val_loss: 0.5714 - val_acc: 0.8480\n",
            "Epoch 45/50\n",
            "12500/12500 [==============================] - 4s 298us/step - loss: 0.3314 - acc: 0.8919 - val_loss: 0.5767 - val_acc: 0.8488\n",
            "Epoch 46/50\n",
            "12500/12500 [==============================] - 4s 298us/step - loss: 0.3275 - acc: 0.8918 - val_loss: 0.5892 - val_acc: 0.8443\n",
            "Epoch 47/50\n",
            "12500/12500 [==============================] - 4s 302us/step - loss: 0.3287 - acc: 0.8926 - val_loss: 0.6043 - val_acc: 0.8455\n",
            "Epoch 48/50\n",
            "12500/12500 [==============================] - 4s 298us/step - loss: 0.3276 - acc: 0.8934 - val_loss: 0.5905 - val_acc: 0.8455\n",
            "Epoch 49/50\n",
            "12500/12500 [==============================] - 4s 299us/step - loss: 0.3218 - acc: 0.8948 - val_loss: 0.5849 - val_acc: 0.8476\n",
            "Epoch 50/50\n",
            "12500/12500 [==============================] - 4s 300us/step - loss: 0.3190 - acc: 0.8955 - val_loss: 0.5829 - val_acc: 0.8492\n",
            "2434/2434 [==============================] - 0s 158us/step\n",
            "Test loss: 0.582889000362521\n",
            "Test accuracy: 0.8492193919474117\n"
          ],
          "name": "stdout"
        }
      ]
    },
    {
      "cell_type": "code",
      "metadata": {
        "id": "V74ZjINVtF-Y",
        "colab_type": "code",
        "outputId": "ef9990e7-724b-459a-b178-b110599a363e",
        "colab": {
          "base_uri": "https://localhost:8080/",
          "height": 118
        }
      },
      "source": [
        "score = model.evaluate(x = train_x_fm , y = train_y_fm)\n",
        "print(\"Training Accuracy :\",score[1])\n",
        "print('Training Loss:', score[0])\n",
        "\n",
        "score = model.evaluate(x = test_x_fm , y = test_y_fm)\n",
        "print(\"Test Accuracy :\",score[1])\n",
        "print('Test Loss:', score[0])\n"
      ],
      "execution_count": 0,
      "outputs": [
        {
          "output_type": "stream",
          "text": [
            "12500/12500 [==============================] - 2s 143us/step\n",
            "Training Accuracy : 0.8966399999618531\n",
            "Training Loss: 0.3137130680274963\n",
            "2434/2434 [==============================] - 0s 144us/step\n",
            "Test Accuracy : 0.8492193919474117\n",
            "Test Loss: 0.582889000362521\n"
          ],
          "name": "stdout"
        }
      ]
    },
    {
      "cell_type": "code",
      "metadata": {
        "id": "E2mY-3ABpYLl",
        "colab_type": "code",
        "outputId": "5afbe1eb-2e2f-4a10-867f-c6aaca75f75b",
        "colab": {
          "base_uri": "https://localhost:8080/",
          "height": 573
        }
      },
      "source": [
        "# summarize history for accuracy\n",
        "plt.plot(history.history['acc'])\n",
        "plt.plot(history.history['val_acc'])\n",
        "plt.title('model accuracy')\n",
        "plt.ylabel('accuracy')\n",
        "plt.xlabel('epoch')\n",
        "plt.legend(['train', 'test'], loc='upper left')\n",
        "plt.show()\n",
        "# summarize history for loss\n",
        "plt.plot(history.history['loss'])\n",
        "plt.plot(history.history['val_loss'])\n",
        "plt.title('model loss')\n",
        "plt.ylabel('loss')\n",
        "plt.xlabel('epoch')\n",
        "plt.legend(['train', 'test'], loc='upper left')\n",
        "plt.show()"
      ],
      "execution_count": 0,
      "outputs": [
        {
          "output_type": "display_data",
          "data": {
            "image/png": "[encoded data removed]",
            "text/plain": [
              "<Figure size 432x288 with 1 Axes>"
            ]
          },
          "metadata": {
            "tags": []
          }
        },
        {
          "output_type": "display_data",
          "data": {
            "image/png": "[encoded data removed]",
            "text/plain": [
              "<Figure size 432x288 with 1 Axes>"
            ]
          },
          "metadata": {
            "tags": []
          }
        }
      ]
    },
    {
      "cell_type": "code",
      "metadata": {
        "id": "l_5AliB_cspj",
        "colab_type": "code",
        "colab": {}
      },
      "source": [
        "\n",
        "pred = model.predict(test_x_fm)\n",
        "pred = np.argmax(pred,axis = 1) \n",
        "y_true = np.argmax(test_y_fm,axis = 1)"
      ],
      "execution_count": 0,
      "outputs": []
    },
    {
      "cell_type": "code",
      "metadata": {
        "id": "u_01XablcsxQ",
        "colab_type": "code",
        "outputId": "a4e99352-f9bc-4124-f680-791a7c481c2e",
        "colab": {
          "base_uri": "https://localhost:8080/",
          "height": 185
        }
      },
      "source": [
        "from sklearn.metrics import confusion_matrix\n",
        "import seaborn as sns\n",
        "\n",
        "CM = confusion_matrix(y_true, pred)\n",
        "print(CM)"
      ],
      "execution_count": 0,
      "outputs": [
        {
          "output_type": "stream",
          "text": [
            "[[284   1   2   1   2   7   1   2  12   4]\n",
            " [  0  52   4   1   3   1   1   0   3   4]\n",
            " [ 10   0 260   8   4   5   1   0  26   7]\n",
            " [  2   0  29 161   1   3   1   2  11   2]\n",
            " [  7   4   8   1 233   5   0   7   6   1]\n",
            " [ 16   0   2   1   3 298   0   4   4   0]\n",
            " [  0   0   0   0   0   1   7   0   0   0]\n",
            " [  3   0   1   0  12   6   0 264   1   0]\n",
            " [ 11   1  11   3   9   8   0   4 234   4]\n",
            " [  7   3  27   3   2   4   0   1  15 274]]\n"
          ],
          "name": "stdout"
        }
      ]
    },
    {
      "cell_type": "code",
      "metadata": {
        "id": "b_1LYfy7csj7",
        "colab_type": "code",
        "outputId": "d06ad233-7f52-45e4-a4be-25c09d3381fb",
        "colab": {
          "base_uri": "https://localhost:8080/",
          "height": 300
        }
      },
      "source": [
        "sns.heatmap(CM, annot=True, fmt=\"d\")\n",
        "plt.xlabel(\"Predicted label\")\n",
        "plt.ylabel(\"True label\")"
      ],
      "execution_count": 0,
      "outputs": [
        {
          "output_type": "execute_result",
          "data": {
            "text/plain": [
              "Text(33.0, 0.5, 'True label')"
            ]
          },
          "metadata": {
            "tags": []
          },
          "execution_count": 32
        },
        {
          "output_type": "display_data",
          "data": {
            "image/png": "[encoded data removed]",
            "text/plain": [
              "<Figure size 432x288 with 2 Axes>"
            ]
          },
          "metadata": {
            "tags": []
          }
        }
      ]
    },
    {
      "cell_type": "code",
      "metadata": {
        "id": "jX2mgeb7g-eD",
        "colab_type": "code",
        "outputId": "7bebbd66-98f8-4af6-c457-533877a58b65",
        "colab": {
          "base_uri": "https://localhost:8080/",
          "height": 185
        }
      },
      "source": [
        "sum=0\n",
        "for i in range(10):\n",
        "  for j in range(10):\n",
        "    sum+=CM[i][j]\n",
        "    if(i==j):\n",
        "      x=CM[i][j]\n",
        "  print(i,\" \",x/sum)\n",
        "  sum=0"
      ],
      "execution_count": 0,
      "outputs": [
        {
          "output_type": "stream",
          "text": [
            "0   0.8987341772151899\n",
            "1   0.7536231884057971\n",
            "2   0.8099688473520249\n",
            "3   0.7594339622641509\n",
            "4   0.8566176470588235\n",
            "5   0.9085365853658537\n",
            "6   0.875\n",
            "7   0.9198606271777003\n",
            "8   0.8210526315789474\n",
            "9   0.8154761904761905\n"
          ],
          "name": "stdout"
        }
      ]
    },
    {
      "cell_type": "code",
      "metadata": {
        "id": "J7xk0hdZPklR",
        "colab_type": "code",
        "colab": {}
      },
      "source": [
        "np.save('/content/drive/My Drive/Noisy_Sound_Classification/UrbanSound8K/fm_train_acc.npy', history.history['acc'])\n",
        "np.save('/content/drive/My Drive/Noisy_Sound_Classification/UrbanSound8K/fm_test_acc.npy', history.history['val_acc'])\n",
        "np.save('/content/drive/My Drive/Noisy_Sound_Classification/UrbanSound8K/fm_train_loss.npy', history.history['loss'])\n",
        "np.save('/content/drive/My Drive/Noisy_Sound_Classification/UrbanSound8K/fm_test_loss.npy', history.history['val_loss']) "
      ],
      "execution_count": 0,
      "outputs": []
    },
    {
      "cell_type": "markdown",
      "metadata": {
        "id": "dtPsVuY3tGCV",
        "colab_type": "text"
      },
      "source": [
        "Apply CNN on TM aug data"
      ]
    },
    {
      "cell_type": "code",
      "metadata": {
        "id": "TeHD4M-NtFv_",
        "colab_type": "code",
        "colab": {}
      },
      "source": [
        "train_x_tm = np.load('/content/drive/My Drive/Noisy_Sound_Classification/UrbanSound8K/aug_data/np_array_train_x_tm.npy')\n",
        "train_y_tm = np.load('/content/drive/My Drive/Noisy_Sound_Classification/UrbanSound8K/aug_data/np_array_train_y_tm.npy')\n",
        "test_x_tm = np.load('/content/drive/My Drive/Noisy_Sound_Classification/UrbanSound8K/aug_data/np_array_test_x_tm.npy')\n",
        "test_y_tm = np.load('/content/drive/My Drive/Noisy_Sound_Classification/UrbanSound8K/aug_data/np_array_test_y_tm.npy')"
      ],
      "execution_count": 0,
      "outputs": []
    },
    {
      "cell_type": "code",
      "metadata": {
        "id": "-v0nrtsVBblO",
        "colab_type": "code",
        "outputId": "f1ae19c4-0622-430a-ac47-6d354a7b8f94",
        "colab": {
          "base_uri": "https://localhost:8080/",
          "height": 84
        }
      },
      "source": [
        "print(train_x_tm.shape)\n",
        "print(train_y_tm.shape)\n",
        "print(test_x_tm.shape)\n",
        "print(test_y_tm.shape)"
      ],
      "execution_count": 0,
      "outputs": [
        {
          "output_type": "stream",
          "text": [
            "(12500, 128, 128, 1)\n",
            "(12500, 10)\n",
            "(2434, 128, 128, 1)\n",
            "(2434, 10)\n"
          ],
          "name": "stdout"
        }
      ]
    },
    {
      "cell_type": "code",
      "metadata": {
        "id": "n6WYSYt_BboU",
        "colab_type": "code",
        "colab": {}
      },
      "source": [
        "model = Sequential()\n",
        "input_shape=(128, 128, 1)\n",
        "\n",
        "model.add(Conv2D(24, (5, 5), strides=(1, 1), input_shape=input_shape))\n",
        "model.add(MaxPooling2D((4, 2), strides=(4, 2)))\n",
        "model.add(Activation('relu'))\n",
        "\n",
        "model.add(Conv2D(48, (5, 5), padding=\"valid\"))\n",
        "model.add(MaxPooling2D((4, 2), strides=(4, 2)))\n",
        "model.add(Activation('relu'))\n",
        "\n",
        "model.add(Conv2D(48, (5, 5), padding=\"valid\"))\n",
        "model.add(Activation('relu'))\n",
        "\n",
        "# model.add(Flatten())\n",
        "# model.add(Dropout(rate=0.5))\n",
        "\n",
        "# model.add(Dense(64))\n",
        "# model.add(Activation('relu'))\n",
        "# model.add(Dropout(rate=0.5))\n",
        "\n",
        "model.add(GlobalAveragePooling2D())\n",
        "\n",
        "model.add(Dense(10))\n",
        "model.add(Activation('softmax'))"
      ],
      "execution_count": 0,
      "outputs": []
    },
    {
      "cell_type": "code",
      "metadata": {
        "id": "urUwsarHBbrt",
        "colab_type": "code",
        "outputId": "408014dd-254a-45fe-b77a-883ef0277918",
        "colab": {
          "base_uri": "https://localhost:8080/",
          "height": 521
        }
      },
      "source": [
        "model.summary()"
      ],
      "execution_count": 0,
      "outputs": [
        {
          "output_type": "stream",
          "text": [
            "Model: \"sequential_2\"\n",
            "_________________________________________________________________\n",
            "Layer (type)                 Output Shape              Param #   \n",
            "=================================================================\n",
            "conv2d_4 (Conv2D)            (None, 124, 124, 24)      624       \n",
            "_________________________________________________________________\n",
            "max_pooling2d_3 (MaxPooling2 (None, 31, 62, 24)        0         \n",
            "_________________________________________________________________\n",
            "activation_5 (Activation)    (None, 31, 62, 24)        0         \n",
            "_________________________________________________________________\n",
            "conv2d_5 (Conv2D)            (None, 27, 58, 48)        28848     \n",
            "_________________________________________________________________\n",
            "max_pooling2d_4 (MaxPooling2 (None, 6, 29, 48)         0         \n",
            "_________________________________________________________________\n",
            "activation_6 (Activation)    (None, 6, 29, 48)         0         \n",
            "_________________________________________________________________\n",
            "conv2d_6 (Conv2D)            (None, 2, 25, 48)         57648     \n",
            "_________________________________________________________________\n",
            "activation_7 (Activation)    (None, 2, 25, 48)         0         \n",
            "_________________________________________________________________\n",
            "global_average_pooling2d_2 ( (None, 48)                0         \n",
            "_________________________________________________________________\n",
            "dense_2 (Dense)              (None, 10)                490       \n",
            "_________________________________________________________________\n",
            "activation_8 (Activation)    (None, 10)                0         \n",
            "=================================================================\n",
            "Total params: 87,610\n",
            "Trainable params: 87,610\n",
            "Non-trainable params: 0\n",
            "_________________________________________________________________\n"
          ],
          "name": "stdout"
        }
      ]
    },
    {
      "cell_type": "code",
      "metadata": {
        "id": "ObF7bVn5pNJU",
        "colab_type": "code",
        "colab": {}
      },
      "source": [
        "from keras.callbacks import ReduceLROnPlateau\n",
        "learning_rate_reduction = ReduceLROnPlateau(monitor='val_acc', \n",
        "                                            patience=3, \n",
        "                                            verbose=1, \n",
        "                                            factor=0.2, \n",
        "                                            min_lr=0.0001)"
      ],
      "execution_count": 0,
      "outputs": []
    },
    {
      "cell_type": "code",
      "metadata": {
        "id": "zwR5Uz2KBbvt",
        "colab_type": "code",
        "outputId": "8ff60f24-c5a9-470a-b434-dd17b34a0c2b",
        "colab": {
          "base_uri": "https://localhost:8080/",
          "height": 1000
        }
      },
      "source": [
        "model.compile(\n",
        "\toptimizer=\"Adam\",\n",
        "\tloss=\"categorical_crossentropy\",\n",
        "\tmetrics=['accuracy'])\n",
        "\n",
        "history = model.fit(\n",
        "\tx=train_x_tm, \n",
        "\ty=train_y_tm,\n",
        "  epochs=50,\n",
        "  batch_size=64,\n",
        "  callbacks = [learning_rate_reduction],\n",
        "  validation_data= (test_x_tm, test_y_tm))\n",
        "\n",
        "score = model.evaluate(\n",
        "\tx=test_x_tm,\n",
        "\ty=test_y_tm)\n",
        "\n",
        "print('Test loss:', score[0])\n",
        "print('Test accuracy:', score[1])"
      ],
      "execution_count": 0,
      "outputs": [
        {
          "output_type": "stream",
          "text": [
            "Train on 12500 samples, validate on 2434 samples\n",
            "Epoch 1/50\n",
            "12500/12500 [==============================] - 4s 345us/step - loss: 1.9051 - acc: 0.3748 - val_loss: 1.7381 - val_acc: 0.4310\n",
            "Epoch 2/50\n",
            "12500/12500 [==============================] - 4s 312us/step - loss: 1.5169 - acc: 0.4933 - val_loss: 1.4351 - val_acc: 0.5259\n",
            "Epoch 3/50\n",
            "12500/12500 [==============================] - 4s 315us/step - loss: 1.2991 - acc: 0.5653 - val_loss: 1.2795 - val_acc: 0.5859\n",
            "Epoch 4/50\n",
            "12500/12500 [==============================] - 4s 318us/step - loss: 1.1645 - acc: 0.6133 - val_loss: 1.1790 - val_acc: 0.6093\n",
            "Epoch 5/50\n",
            "12500/12500 [==============================] - 4s 325us/step - loss: 1.0532 - acc: 0.6586 - val_loss: 1.0695 - val_acc: 0.6664\n",
            "Epoch 6/50\n",
            "12500/12500 [==============================] - 4s 319us/step - loss: 0.9563 - acc: 0.6882 - val_loss: 1.0085 - val_acc: 0.6861\n",
            "Epoch 7/50\n",
            "12500/12500 [==============================] - 4s 317us/step - loss: 0.8848 - acc: 0.7073 - val_loss: 1.0052 - val_acc: 0.6561\n",
            "Epoch 8/50\n",
            "12500/12500 [==============================] - 4s 319us/step - loss: 0.8195 - acc: 0.7334 - val_loss: 0.8703 - val_acc: 0.7346\n",
            "Epoch 9/50\n",
            "12500/12500 [==============================] - 4s 317us/step - loss: 0.7961 - acc: 0.7422 - val_loss: 0.8397 - val_acc: 0.7379\n",
            "Epoch 10/50\n",
            "12500/12500 [==============================] - 4s 317us/step - loss: 0.7232 - acc: 0.7668 - val_loss: 0.8183 - val_acc: 0.7543\n",
            "Epoch 11/50\n",
            "12500/12500 [==============================] - 4s 321us/step - loss: 0.7715 - acc: 0.7519 - val_loss: 0.8438 - val_acc: 0.7535\n",
            "Epoch 12/50\n",
            "12500/12500 [==============================] - 4s 321us/step - loss: 0.6705 - acc: 0.7848 - val_loss: 0.7305 - val_acc: 0.7794\n",
            "Epoch 13/50\n",
            "12500/12500 [==============================] - 4s 318us/step - loss: 0.6022 - acc: 0.8061 - val_loss: 0.7317 - val_acc: 0.7962\n",
            "Epoch 14/50\n",
            "12500/12500 [==============================] - 4s 315us/step - loss: 0.6785 - acc: 0.7804 - val_loss: 0.7760 - val_acc: 0.7744\n",
            "Epoch 15/50\n",
            "12500/12500 [==============================] - 4s 316us/step - loss: 0.6164 - acc: 0.8057 - val_loss: 0.6918 - val_acc: 0.7835\n",
            "Epoch 16/50\n",
            "12500/12500 [==============================] - 4s 316us/step - loss: 0.6397 - acc: 0.8091 - val_loss: 0.7659 - val_acc: 0.7942\n",
            "\n",
            "Epoch 00016: ReduceLROnPlateau reducing learning rate to 0.00020000000949949026.\n",
            "Epoch 17/50\n",
            "12500/12500 [==============================] - 4s 316us/step - loss: 0.5107 - acc: 0.8441 - val_loss: 0.6610 - val_acc: 0.8184\n",
            "Epoch 18/50\n",
            "12500/12500 [==============================] - 4s 316us/step - loss: 0.4680 - acc: 0.8530 - val_loss: 0.6503 - val_acc: 0.8221\n",
            "Epoch 19/50\n",
            "12500/12500 [==============================] - 4s 313us/step - loss: 0.4459 - acc: 0.8606 - val_loss: 0.6250 - val_acc: 0.8246\n",
            "Epoch 20/50\n",
            "12500/12500 [==============================] - 4s 313us/step - loss: 0.4352 - acc: 0.8615 - val_loss: 0.6344 - val_acc: 0.8258\n",
            "Epoch 21/50\n",
            "12500/12500 [==============================] - 4s 315us/step - loss: 0.4236 - acc: 0.8678 - val_loss: 0.6130 - val_acc: 0.8369\n",
            "Epoch 22/50\n",
            "12500/12500 [==============================] - 4s 315us/step - loss: 0.4101 - acc: 0.8703 - val_loss: 0.5992 - val_acc: 0.8307\n",
            "Epoch 23/50\n",
            "12500/12500 [==============================] - 4s 315us/step - loss: 0.4044 - acc: 0.8722 - val_loss: 0.6213 - val_acc: 0.8332\n",
            "Epoch 24/50\n",
            "12500/12500 [==============================] - 4s 315us/step - loss: 0.3931 - acc: 0.8737 - val_loss: 0.5819 - val_acc: 0.8431\n",
            "Epoch 25/50\n",
            "12500/12500 [==============================] - 4s 317us/step - loss: 0.3851 - acc: 0.8794 - val_loss: 0.5908 - val_acc: 0.8422\n",
            "Epoch 26/50\n",
            "12500/12500 [==============================] - 4s 318us/step - loss: 0.3809 - acc: 0.8813 - val_loss: 0.5724 - val_acc: 0.8488\n",
            "Epoch 27/50\n",
            "12500/12500 [==============================] - 4s 314us/step - loss: 0.3759 - acc: 0.8800 - val_loss: 0.6653 - val_acc: 0.8155\n",
            "Epoch 28/50\n",
            "12500/12500 [==============================] - 4s 316us/step - loss: 0.3927 - acc: 0.8770 - val_loss: 0.5714 - val_acc: 0.8447\n",
            "Epoch 29/50\n",
            "12500/12500 [==============================] - 4s 318us/step - loss: 0.3621 - acc: 0.8858 - val_loss: 0.5611 - val_acc: 0.8463\n",
            "\n",
            "Epoch 00029: ReduceLROnPlateau reducing learning rate to 0.0001.\n",
            "Epoch 30/50\n",
            "12500/12500 [==============================] - 4s 314us/step - loss: 0.3453 - acc: 0.8921 - val_loss: 0.5605 - val_acc: 0.8455\n",
            "Epoch 31/50\n",
            "12500/12500 [==============================] - 4s 315us/step - loss: 0.3411 - acc: 0.8945 - val_loss: 0.5465 - val_acc: 0.8517\n",
            "Epoch 32/50\n",
            "12500/12500 [==============================] - 4s 316us/step - loss: 0.3365 - acc: 0.8962 - val_loss: 0.5596 - val_acc: 0.8451\n",
            "Epoch 33/50\n",
            "12500/12500 [==============================] - 4s 312us/step - loss: 0.3340 - acc: 0.8963 - val_loss: 0.5496 - val_acc: 0.8550\n",
            "Epoch 34/50\n",
            "12500/12500 [==============================] - 4s 315us/step - loss: 0.3309 - acc: 0.8978 - val_loss: 0.5539 - val_acc: 0.8484\n",
            "Epoch 35/50\n",
            "12500/12500 [==============================] - 4s 315us/step - loss: 0.3271 - acc: 0.8978 - val_loss: 0.5441 - val_acc: 0.8558\n",
            "Epoch 36/50\n",
            "12500/12500 [==============================] - 4s 317us/step - loss: 0.3238 - acc: 0.8990 - val_loss: 0.5466 - val_acc: 0.8500\n",
            "Epoch 37/50\n",
            "12500/12500 [==============================] - 4s 314us/step - loss: 0.3196 - acc: 0.9010 - val_loss: 0.5552 - val_acc: 0.8541\n",
            "Epoch 38/50\n",
            "12500/12500 [==============================] - 4s 311us/step - loss: 0.3177 - acc: 0.9002 - val_loss: 0.5459 - val_acc: 0.8505\n",
            "Epoch 39/50\n",
            "12500/12500 [==============================] - 4s 318us/step - loss: 0.3140 - acc: 0.9008 - val_loss: 0.5345 - val_acc: 0.8591\n",
            "Epoch 40/50\n",
            "12500/12500 [==============================] - 4s 316us/step - loss: 0.3089 - acc: 0.9029 - val_loss: 0.5502 - val_acc: 0.8529\n",
            "Epoch 41/50\n",
            "12500/12500 [==============================] - 4s 314us/step - loss: 0.3086 - acc: 0.9041 - val_loss: 0.5398 - val_acc: 0.8562\n",
            "Epoch 42/50\n",
            "12500/12500 [==============================] - 4s 315us/step - loss: 0.3036 - acc: 0.9032 - val_loss: 0.5502 - val_acc: 0.8562\n",
            "Epoch 43/50\n",
            "12500/12500 [==============================] - 4s 316us/step - loss: 0.3117 - acc: 0.9037 - val_loss: 0.5365 - val_acc: 0.8599\n",
            "Epoch 44/50\n",
            "12500/12500 [==============================] - 4s 318us/step - loss: 0.3013 - acc: 0.9060 - val_loss: 0.5314 - val_acc: 0.8603\n",
            "Epoch 45/50\n",
            "12500/12500 [==============================] - 4s 313us/step - loss: 0.2962 - acc: 0.9064 - val_loss: 0.5388 - val_acc: 0.8644\n",
            "Epoch 46/50\n",
            "12500/12500 [==============================] - 4s 317us/step - loss: 0.2917 - acc: 0.9079 - val_loss: 0.5341 - val_acc: 0.8628\n",
            "Epoch 47/50\n",
            "12500/12500 [==============================] - 4s 316us/step - loss: 0.2897 - acc: 0.9097 - val_loss: 0.5270 - val_acc: 0.8620\n",
            "Epoch 48/50\n",
            "12500/12500 [==============================] - 4s 313us/step - loss: 0.2852 - acc: 0.9110 - val_loss: 0.5337 - val_acc: 0.8648\n",
            "Epoch 49/50\n",
            "12500/12500 [==============================] - 4s 313us/step - loss: 0.2839 - acc: 0.9099 - val_loss: 0.5289 - val_acc: 0.8603\n",
            "Epoch 50/50\n",
            "12500/12500 [==============================] - 4s 316us/step - loss: 0.2846 - acc: 0.9106 - val_loss: 0.5303 - val_acc: 0.8673\n",
            "2434/2434 [==============================] - 0s 149us/step\n",
            "Test loss: 0.5302979722312953\n",
            "Test accuracy: 0.8672966310599836\n"
          ],
          "name": "stdout"
        }
      ]
    },
    {
      "cell_type": "code",
      "metadata": {
        "id": "4T_AvNreBb4g",
        "colab_type": "code",
        "outputId": "7aa188ec-406a-46e5-8c70-bb6a21c4b39b",
        "colab": {
          "base_uri": "https://localhost:8080/",
          "height": 118
        }
      },
      "source": [
        "score = model.evaluate(x = train_x_tm , y = train_y_tm)\n",
        "print(\"Training Accuracy :\",score[1])\n",
        "print('Training Loss:', score[0])\n",
        "\n",
        "score = model.evaluate(x = test_x_tm , y = test_y_tm)\n",
        "print(\"Test Accuracy :\",score[1])\n",
        "print('Test Loss:', score[0])\n"
      ],
      "execution_count": 0,
      "outputs": [
        {
          "output_type": "stream",
          "text": [
            "12500/12500 [==============================] - 2s 152us/step\n",
            "Training Accuracy : 0.9151999999809265\n",
            "Training Loss: 0.2768843724346161\n",
            "2434/2434 [==============================] - 0s 149us/step\n",
            "Test Accuracy : 0.8672966310599836\n",
            "Test Loss: 0.5302979722312953\n"
          ],
          "name": "stdout"
        }
      ]
    },
    {
      "cell_type": "code",
      "metadata": {
        "id": "_GlYkZwbBb81",
        "colab_type": "code",
        "outputId": "8afb92bf-d5c0-4bbe-bb85-41bf83923c1e",
        "colab": {
          "base_uri": "https://localhost:8080/",
          "height": 573
        }
      },
      "source": [
        "# summarize history for accuracy\n",
        "plt.plot(history.history['acc'])\n",
        "plt.plot(history.history['val_acc'])\n",
        "plt.title('model accuracy')\n",
        "plt.ylabel('accuracy')\n",
        "plt.xlabel('epoch')\n",
        "plt.legend(['train', 'test'], loc='upper left')\n",
        "plt.show()\n",
        "# summarize history for loss\n",
        "plt.plot(history.history['loss'])\n",
        "plt.plot(history.history['val_loss'])\n",
        "plt.title('model loss')\n",
        "plt.ylabel('loss')\n",
        "plt.xlabel('epoch')\n",
        "plt.legend(['train', 'test'], loc='upper left')\n",
        "plt.show()"
      ],
      "execution_count": 0,
      "outputs": [
        {
          "output_type": "display_data",
          "data": {
            "image/png": "[encoded data removed]",
            "text/plain": [
              "<Figure size 432x288 with 1 Axes>"
            ]
          },
          "metadata": {
            "tags": []
          }
        },
        {
          "output_type": "display_data",
          "data": {
            "image/png": "[encoded data removed]",
            "text/plain": [
              "<Figure size 432x288 with 1 Axes>"
            ]
          },
          "metadata": {
            "tags": []
          }
        }
      ]
    },
    {
      "cell_type": "code",
      "metadata": {
        "id": "6z6dKh5zBcCl",
        "colab_type": "code",
        "colab": {}
      },
      "source": [
        "# from keras import utils\n",
        "# utils.plot_model(model, to_file=path+'melspec_aug_model.png', show_shapes=True, show_layer_names=True, rankdir='LR')"
      ],
      "execution_count": 0,
      "outputs": []
    },
    {
      "cell_type": "code",
      "metadata": {
        "id": "QmCvkFMBBb02",
        "colab_type": "code",
        "colab": {}
      },
      "source": [
        "\n",
        "pred = model.predict(test_x_tm)\n",
        "pred = np.argmax(pred,axis = 1) \n",
        "y_true = np.argmax(test_y_tm,axis = 1)"
      ],
      "execution_count": 0,
      "outputs": []
    },
    {
      "cell_type": "code",
      "metadata": {
        "id": "68KuxkOtXfnq",
        "colab_type": "code",
        "outputId": "4efcc3cd-db33-46a0-9435-2b0135984d27",
        "colab": {
          "base_uri": "https://localhost:8080/",
          "height": 185
        }
      },
      "source": [
        "from sklearn.metrics import confusion_matrix\n",
        "import seaborn as sns\n",
        "\n",
        "CM = confusion_matrix(y_true, pred)\n",
        "print(CM)"
      ],
      "execution_count": 0,
      "outputs": [
        {
          "output_type": "stream",
          "text": [
            "[[302   0   6   2   0   9   0   4   6  10]\n",
            " [  0  57   1   1   2   1   0   3   0   5]\n",
            " [ 12   0 248  14   0   3   0   0  24   9]\n",
            " [  4   0  18 192   3   5   1   0  14   2]\n",
            " [  3   1   5   0 239   3   0   6   4   0]\n",
            " [  8   0   4   4   0 302   0   0   5   3]\n",
            " [  1   0   0   2   0   0  12   0   0   0]\n",
            " [  4   0   0   0  13  10   0 243   0   1]\n",
            " [  4   0   9   8   0   8   0   0 269   5]\n",
            " [ 12   4  17   7   1   3   0   1   8 247]]\n"
          ],
          "name": "stdout"
        }
      ]
    },
    {
      "cell_type": "code",
      "metadata": {
        "id": "FspRx3jLXfrD",
        "colab_type": "code",
        "outputId": "8d4227ef-6cdf-400e-f7bf-54b0c1019777",
        "colab": {
          "base_uri": "https://localhost:8080/",
          "height": 300
        }
      },
      "source": [
        "sns.heatmap(CM, annot=True, fmt=\"d\")\n",
        "plt.xlabel(\"Predicted label\")\n",
        "plt.ylabel(\"True label\")"
      ],
      "execution_count": 0,
      "outputs": [
        {
          "output_type": "execute_result",
          "data": {
            "text/plain": [
              "Text(33.0, 0.5, 'True label')"
            ]
          },
          "metadata": {
            "tags": []
          },
          "execution_count": 46
        },
        {
          "output_type": "display_data",
          "data": {
            "image/png": "[encoded data removed]",
            "text/plain": [
              "<Figure size 432x288 with 2 Axes>"
            ]
          },
          "metadata": {
            "tags": []
          }
        }
      ]
    },
    {
      "cell_type": "code",
      "metadata": {
        "id": "iXrV_Bljg6w6",
        "colab_type": "code",
        "outputId": "e15231e1-2094-49bb-9005-700d4c7b4066",
        "colab": {
          "base_uri": "https://localhost:8080/",
          "height": 185
        }
      },
      "source": [
        "sum=0\n",
        "for i in range(10):\n",
        "  for j in range(10):\n",
        "    sum+=CM[i][j]\n",
        "    if(i==j):\n",
        "      x=CM[i][j]\n",
        "  print(i,\" \",x/sum)\n",
        "  sum=0"
      ],
      "execution_count": 0,
      "outputs": [
        {
          "output_type": "stream",
          "text": [
            "0   0.8908554572271387\n",
            "1   0.8142857142857143\n",
            "2   0.8\n",
            "3   0.803347280334728\n",
            "4   0.9157088122605364\n",
            "5   0.9263803680981595\n",
            "6   0.8\n",
            "7   0.8966789667896679\n",
            "8   0.8877887788778878\n",
            "9   0.8233333333333334\n"
          ],
          "name": "stdout"
        }
      ]
    },
    {
      "cell_type": "code",
      "metadata": {
        "id": "BM4I7myzQC-A",
        "colab_type": "code",
        "colab": {}
      },
      "source": [
        "np.save('/content/drive/My Drive/Noisy_Sound_Classification/UrbanSound8K/tm_train_acc.npy', history.history['acc'])\n",
        "np.save('/content/drive/My Drive/Noisy_Sound_Classification/UrbanSound8K/tm_test_acc.npy', history.history['val_acc'])\n",
        "np.save('/content/drive/My Drive/Noisy_Sound_Classification/UrbanSound8K/tm_train_loss.npy', history.history['loss'])\n",
        "np.save('/content/drive/My Drive/Noisy_Sound_Classification/UrbanSound8K/tm_test_loss.npy', history.history['val_loss']) "
      ],
      "execution_count": 0,
      "outputs": []
    }
  ]
}