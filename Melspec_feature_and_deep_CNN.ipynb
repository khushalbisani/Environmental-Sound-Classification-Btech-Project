{
  "nbformat": 4,
  "nbformat_minor": 0,
  "metadata": {
    "colab": {
      "name": "Melspec_feature_and_deep_CNN.ipynb",
      "provenance": [],
      "collapsed_sections": [],
      "include_colab_link": true
    },
    "kernelspec": {
      "name": "python3",
      "display_name": "Python 3"
    },
    "accelerator": "GPU"
  },
  "cells": [
    {
      "cell_type": "markdown",
      "metadata": {
        "id": "view-in-github",
        "colab_type": "text"
      },
      "source": [
        "<a href=\"https://colab.research.google.com/github/khushalbisani/Urban-Sound-Classification-Btech-Project/blob/master/Melspec_feature_and_deep_CNN.ipynb\" target=\"_parent\"><img src=\"https://colab.research.google.com/assets/colab-badge.svg\" alt=\"Open In Colab\"/></a>"
      ]
    },
    {
      "cell_type": "code",
      "metadata": {
        "id": "cecZ_z-dGN_r",
        "colab_type": "code",
        "outputId": "ddf2d763-acc5-4526-c27a-076d1e54a1ef",
        "colab": {
          "base_uri": "https://localhost:8080/",
          "height": 238
        }
      },
      "source": [
        "!pip install numpy\n",
        "!pip install helpers\n",
        "!pip install soundfile\n",
        "import numpy as np\n",
        "import pandas as pd\n",
        "import matplotlib.pyplot as plt\n",
        "import tensorflow as tf\n",
        "import keras\n",
        "from keras.layers import Activation, Dense, Dropout, Conv2D, Flatten, MaxPooling2D ,GlobalAveragePooling2D,MaxPool2D\n",
        "from keras.models import Sequential\n",
        "import random\n",
        "import librosa\n",
        "import librosa.display\n",
        "import os\n",
        "import  IPython.display as ipd\n",
        "from scipy.io import wavfile as wav\n",
        "import helpers\n",
        "import soundfile as sf\n",
        "%matplotlib inline"
      ],
      "execution_count": 0,
      "outputs": [
        {
          "output_type": "stream",
          "text": [
            "Requirement already satisfied: numpy in /usr/local/lib/python3.6/dist-packages (1.16.5)\n",
            "Collecting helpers\n",
            "  Downloading https://files.pythonhosted.org/packages/c9/d8/c85a9dffe8a12a9a4c02aded04c21e2ac1c3c1f6e06913f19ef4fef96687/helpers-0.2.0-py3-none-any.whl\n",
            "Installing collected packages: helpers\n",
            "Successfully installed helpers-0.2.0\n",
            "Collecting soundfile\n",
            "  Downloading https://files.pythonhosted.org/packages/68/64/1191352221e2ec90db7492b4bf0c04fd9d2508de67b3f39cbf093cd6bd86/SoundFile-0.10.2-py2.py3-none-any.whl\n",
            "Requirement already satisfied: cffi>=1.0 in /usr/local/lib/python3.6/dist-packages (from soundfile) (1.12.3)\n",
            "Requirement already satisfied: pycparser in /usr/local/lib/python3.6/dist-packages (from cffi>=1.0->soundfile) (2.19)\n",
            "Installing collected packages: soundfile\n",
            "Successfully installed soundfile-0.10.2\n"
          ],
          "name": "stdout"
        },
        {
          "output_type": "stream",
          "text": [
            "Using TensorFlow backend.\n"
          ],
          "name": "stderr"
        }
      ]
    },
    {
      "cell_type": "code",
      "metadata": {
        "id": "-cI4ZG7HGdvm",
        "colab_type": "code",
        "outputId": "7d686a68-a1f7-4fb2-f8a4-99f2cd756ff6",
        "colab": {
          "base_uri": "https://localhost:8080/",
          "height": 121
        }
      },
      "source": [
        "from google.colab import drive\n",
        "drive.mount('/content/drive/')"
      ],
      "execution_count": 0,
      "outputs": [
        {
          "output_type": "stream",
          "text": [
            "Go to this URL in a browser: https://accounts.google.com/o/oauth2/auth?client_id=947318989803-6bn6qk8qdgf4n4g3pfee6491hc0brc4i.apps.googleusercontent.com&redirect_uri=urn%3Aietf%3Awg%3Aoauth%3A2.0%3Aoob&scope=email%20https%3A%2F%2Fwww.googleapis.com%2Fauth%2Fdocs.test%20https%3A%2F%2Fwww.googleapis.com%2Fauth%2Fdrive%20https%3A%2F%2Fwww.googleapis.com%2Fauth%2Fdrive.photos.readonly%20https%3A%2F%2Fwww.googleapis.com%2Fauth%2Fpeopleapi.readonly&response_type=code\n",
            "\n",
            "Enter your authorization code:\n",
            "··········\n",
            "Mounted at /content/drive/\n"
          ],
          "name": "stdout"
        }
      ]
    },
    {
      "cell_type": "code",
      "metadata": {
        "id": "GfU8MwvCJCRs",
        "colab_type": "code",
        "colab": {}
      },
      "source": [
        "os.chdir(\"/content/drive/My Drive/Noisy_Sound_Classification\")\n"
      ],
      "execution_count": 0,
      "outputs": []
    },
    {
      "cell_type": "code",
      "metadata": {
        "id": "jsO9AZLMGdyl",
        "colab_type": "code",
        "outputId": "0562ba56-568c-4e9b-fca2-81b3c1a55ef5",
        "colab": {
          "base_uri": "https://localhost:8080/",
          "height": 195
        }
      },
      "source": [
        "path = \"/content/drive/My Drive/Noisy_Sound_Classification/UrbanSound8K/\"\n",
        "data = pd.read_csv(path + \"metadata/UrbanSound8K.csv\")\n",
        "data.head()"
      ],
      "execution_count": 0,
      "outputs": [
        {
          "output_type": "execute_result",
          "data": {
            "text/html": [
              "<div>\n",
              "<style scoped>\n",
              "    .dataframe tbody tr th:only-of-type {\n",
              "        vertical-align: middle;\n",
              "    }\n",
              "\n",
              "    .dataframe tbody tr th {\n",
              "        vertical-align: top;\n",
              "    }\n",
              "\n",
              "    .dataframe thead th {\n",
              "        text-align: right;\n",
              "    }\n",
              "</style>\n",
              "<table border=\"1\" class=\"dataframe\">\n",
              "  <thead>\n",
              "    <tr style=\"text-align: right;\">\n",
              "      <th></th>\n",
              "      <th>slice_file_name</th>\n",
              "      <th>fsID</th>\n",
              "      <th>start</th>\n",
              "      <th>end</th>\n",
              "      <th>salience</th>\n",
              "      <th>fold</th>\n",
              "      <th>classID</th>\n",
              "      <th>class</th>\n",
              "    </tr>\n",
              "  </thead>\n",
              "  <tbody>\n",
              "    <tr>\n",
              "      <th>0</th>\n",
              "      <td>100032-3-0-0.wav</td>\n",
              "      <td>100032</td>\n",
              "      <td>0.0</td>\n",
              "      <td>0.317551</td>\n",
              "      <td>1</td>\n",
              "      <td>5</td>\n",
              "      <td>3</td>\n",
              "      <td>dog_bark</td>\n",
              "    </tr>\n",
              "    <tr>\n",
              "      <th>1</th>\n",
              "      <td>100263-2-0-117.wav</td>\n",
              "      <td>100263</td>\n",
              "      <td>58.5</td>\n",
              "      <td>62.500000</td>\n",
              "      <td>1</td>\n",
              "      <td>5</td>\n",
              "      <td>2</td>\n",
              "      <td>children_playing</td>\n",
              "    </tr>\n",
              "    <tr>\n",
              "      <th>2</th>\n",
              "      <td>100263-2-0-121.wav</td>\n",
              "      <td>100263</td>\n",
              "      <td>60.5</td>\n",
              "      <td>64.500000</td>\n",
              "      <td>1</td>\n",
              "      <td>5</td>\n",
              "      <td>2</td>\n",
              "      <td>children_playing</td>\n",
              "    </tr>\n",
              "    <tr>\n",
              "      <th>3</th>\n",
              "      <td>100263-2-0-126.wav</td>\n",
              "      <td>100263</td>\n",
              "      <td>63.0</td>\n",
              "      <td>67.000000</td>\n",
              "      <td>1</td>\n",
              "      <td>5</td>\n",
              "      <td>2</td>\n",
              "      <td>children_playing</td>\n",
              "    </tr>\n",
              "    <tr>\n",
              "      <th>4</th>\n",
              "      <td>100263-2-0-137.wav</td>\n",
              "      <td>100263</td>\n",
              "      <td>68.5</td>\n",
              "      <td>72.500000</td>\n",
              "      <td>1</td>\n",
              "      <td>5</td>\n",
              "      <td>2</td>\n",
              "      <td>children_playing</td>\n",
              "    </tr>\n",
              "  </tbody>\n",
              "</table>\n",
              "</div>"
            ],
            "text/plain": [
              "      slice_file_name    fsID  start  ...  fold  classID             class\n",
              "0    100032-3-0-0.wav  100032    0.0  ...     5        3          dog_bark\n",
              "1  100263-2-0-117.wav  100263   58.5  ...     5        2  children_playing\n",
              "2  100263-2-0-121.wav  100263   60.5  ...     5        2  children_playing\n",
              "3  100263-2-0-126.wav  100263   63.0  ...     5        2  children_playing\n",
              "4  100263-2-0-137.wav  100263   68.5  ...     5        2  children_playing\n",
              "\n",
              "[5 rows x 8 columns]"
            ]
          },
          "metadata": {
            "tags": []
          },
          "execution_count": 4
        }
      ]
    },
    {
      "cell_type": "code",
      "metadata": {
        "id": "f3pFCwmHbaYY",
        "colab_type": "code",
        "colab": {}
      },
      "source": [
        "# import subprocess\n",
        "# subprocess.Popen(['ffmpeg'],shell=True)"
      ],
      "execution_count": 0,
      "outputs": []
    },
    {
      "cell_type": "code",
      "metadata": {
        "id": "TbpV5EolGd2U",
        "colab_type": "code",
        "colab": {}
      },
      "source": [
        "# for row in range(len(data)):\n",
        "#   file_name = \"/content/drive/My Drive/Noisy_Sound_Classification/UrbanSound8K/\" + \"audio/\" + \"fold\" + str(data['fold'][row]) + \"/\" + str(data['slice_file_name'][row])\n",
        "#   if data['end'][row]-data['start'][row] >= 3:\n",
        "#     class_label = data[\"classID\"][row]\n",
        "#     fea = extract_feature_melspec(file_name)\n",
        "#     if fea.shape != (128,128) : continue\n",
        "#     mel_spec.append((fea,class_label))\n",
        "#   print(row)"
      ],
      "execution_count": 0,
      "outputs": []
    },
    {
      "cell_type": "code",
      "metadata": {
        "id": "-5-QUrGxGd5v",
        "colab_type": "code",
        "colab": {}
      },
      "source": [
        "# mel_spec = []\n",
        "\n",
        "# def extract_feature_melspec(file_name):\n",
        "#   audio , sample_rate = librosa.load(file_name , duration = 2.97 , res_type = 'kaiser_fast')\n",
        "#   ms = librosa.feature.melspectrogram(y = audio , sr = sample_rate)\n",
        "#   return ms"
      ],
      "execution_count": 0,
      "outputs": []
    },
    {
      "cell_type": "code",
      "metadata": {
        "id": "UXSmuHftGd89",
        "colab_type": "code",
        "colab": {}
      },
      "source": [
        "# len(mel_spec)"
      ],
      "execution_count": 0,
      "outputs": []
    },
    {
      "cell_type": "code",
      "metadata": {
        "id": "0Lo6XpDTG3eI",
        "colab_type": "code",
        "colab": {}
      },
      "source": [
        "# ms_data = mel_spec\n",
        "# random.shuffle(ms_data)\n",
        "\n",
        "# train = ms_data[:6500]\n",
        "# test = ms_data[6500:]\n",
        "\n",
        "# train_x , train_y = zip(*train)\n",
        "# test_x , test_y = zip(*test)\n",
        "\n",
        "# train_x = np.array([x.reshape((128,128,1)) for x in train_x]) \n",
        "# test_x = np.array([x.reshape((128,128,1)) for x in test_x])\n",
        "\n",
        "# train_y = np.array(keras.utils.to_categorical(train_y, 10))\n",
        "# test_y = np.array(keras.utils.to_categorical(test_y, 10))"
      ],
      "execution_count": 0,
      "outputs": []
    },
    {
      "cell_type": "code",
      "metadata": {
        "id": "9O2Nlnk3G3h3",
        "colab_type": "code",
        "colab": {}
      },
      "source": [
        "# print(train_x.shape)\n",
        "# print(train_y.shape)\n",
        "# print(test_x.shape)\n",
        "# print(test_y.shape)"
      ],
      "execution_count": 0,
      "outputs": []
    },
    {
      "cell_type": "code",
      "metadata": {
        "id": "r77Pbo1LG3k-",
        "colab_type": "code",
        "colab": {}
      },
      "source": [
        "# np.save('/content/drive/My Drive/Noisy_Sound_Classification/UrbanSound8K/np_array_train_x.npy', train_x)\n",
        "# np.save('/content/drive/My Drive/Noisy_Sound_Classification/UrbanSound8K/np_array_train_y.npy', train_y)\n",
        "# np.save('/content/drive/My Drive/Noisy_Sound_Classification/UrbanSound8K/np_array_test_x.npy', test_x)\n",
        "# np.save('/content/drive/My Drive/Noisy_Sound_Classification/UrbanSound8K/np_array_test_y.npy', test_y) "
      ],
      "execution_count": 0,
      "outputs": []
    },
    {
      "cell_type": "code",
      "metadata": {
        "id": "XbEIIUsyG3og",
        "colab_type": "code",
        "colab": {}
      },
      "source": [
        "train_x = np.load('/content/drive/My Drive/Noisy_Sound_Classification/UrbanSound8K/np_array_train_x.npy')\n",
        "train_y = np.load('/content/drive/My Drive/Noisy_Sound_Classification/UrbanSound8K/np_array_train_y.npy')\n",
        "test_x = np.load('/content/drive/My Drive/Noisy_Sound_Classification/UrbanSound8K/np_array_test_x.npy')\n",
        "test_y = np.load('/content/drive/My Drive/Noisy_Sound_Classification/UrbanSound8K/np_array_test_y.npy')"
      ],
      "execution_count": 0,
      "outputs": []
    },
    {
      "cell_type": "code",
      "metadata": {
        "id": "jUgXLyhvG3r-",
        "colab_type": "code",
        "outputId": "ee20c188-8416-476e-9c36-736e89ea68d9",
        "colab": {
          "base_uri": "https://localhost:8080/",
          "height": 84
        }
      },
      "source": [
        "print(train_x.shape)\n",
        "print(train_y.shape)\n",
        "print(test_x.shape)\n",
        "print(test_y.shape)"
      ],
      "execution_count": 0,
      "outputs": [
        {
          "output_type": "stream",
          "text": [
            "(6500, 128, 128, 1)\n",
            "(6500, 10)\n",
            "(967, 128, 128, 1)\n",
            "(967, 10)\n"
          ],
          "name": "stdout"
        }
      ]
    },
    {
      "cell_type": "code",
      "metadata": {
        "id": "2IFOLvDjG3wB",
        "colab_type": "code",
        "outputId": "157a9cdf-987e-4556-b010-f6e80bb8a632",
        "colab": {
          "base_uri": "https://localhost:8080/",
          "height": 171
        }
      },
      "source": [
        "model = Sequential()\n",
        "input_shape=(128, 128, 1)\n",
        "\n",
        "model.add(Conv2D(24, (5, 5), strides=(1, 1), input_shape=input_shape))\n",
        "model.add(MaxPooling2D((4, 2), strides=(4, 2)))\n",
        "model.add(Activation('relu'))\n",
        "\n",
        "model.add(Conv2D(48, (5, 5), padding=\"valid\"))\n",
        "model.add(MaxPooling2D((4, 2), strides=(4, 2)))\n",
        "model.add(Activation('relu'))\n",
        "\n",
        "model.add(Conv2D(48, (5, 5), padding=\"valid\"))\n",
        "model.add(Activation('relu'))\n",
        "\n",
        "# model.add(Flatten())\n",
        "# model.add(Dropout(rate=0.5))\n",
        "\n",
        "# model.add(Dense(64))\n",
        "# model.add(Activation('relu'))\n",
        "# model.add(Dropout(rate=0.5))\n",
        "\n",
        "model.add(GlobalAveragePooling2D())\n",
        "\n",
        "\n",
        "model.add(Dense(10))\n",
        "model.add(Activation('softmax'))\n",
        "\n"
      ],
      "execution_count": 0,
      "outputs": [
        {
          "output_type": "stream",
          "text": [
            "WARNING:tensorflow:From /usr/local/lib/python3.6/dist-packages/keras/backend/tensorflow_backend.py:66: The name tf.get_default_graph is deprecated. Please use tf.compat.v1.get_default_graph instead.\n",
            "\n",
            "WARNING:tensorflow:From /usr/local/lib/python3.6/dist-packages/keras/backend/tensorflow_backend.py:541: The name tf.placeholder is deprecated. Please use tf.compat.v1.placeholder instead.\n",
            "\n",
            "WARNING:tensorflow:From /usr/local/lib/python3.6/dist-packages/keras/backend/tensorflow_backend.py:4432: The name tf.random_uniform is deprecated. Please use tf.random.uniform instead.\n",
            "\n",
            "WARNING:tensorflow:From /usr/local/lib/python3.6/dist-packages/keras/backend/tensorflow_backend.py:4267: The name tf.nn.max_pool is deprecated. Please use tf.nn.max_pool2d instead.\n",
            "\n"
          ],
          "name": "stdout"
        }
      ]
    },
    {
      "cell_type": "code",
      "metadata": {
        "id": "0Q2XLm_8G3zq",
        "colab_type": "code",
        "outputId": "59fd8287-44b3-465f-df8f-a252ba3ae554",
        "colab": {
          "base_uri": "https://localhost:8080/",
          "height": 521
        }
      },
      "source": [
        "model.summary()"
      ],
      "execution_count": 0,
      "outputs": [
        {
          "output_type": "stream",
          "text": [
            "Model: \"sequential_1\"\n",
            "_________________________________________________________________\n",
            "Layer (type)                 Output Shape              Param #   \n",
            "=================================================================\n",
            "conv2d_1 (Conv2D)            (None, 124, 124, 24)      624       \n",
            "_________________________________________________________________\n",
            "max_pooling2d_1 (MaxPooling2 (None, 31, 62, 24)        0         \n",
            "_________________________________________________________________\n",
            "activation_1 (Activation)    (None, 31, 62, 24)        0         \n",
            "_________________________________________________________________\n",
            "conv2d_2 (Conv2D)            (None, 27, 58, 48)        28848     \n",
            "_________________________________________________________________\n",
            "max_pooling2d_2 (MaxPooling2 (None, 6, 29, 48)         0         \n",
            "_________________________________________________________________\n",
            "activation_2 (Activation)    (None, 6, 29, 48)         0         \n",
            "_________________________________________________________________\n",
            "conv2d_3 (Conv2D)            (None, 2, 25, 48)         57648     \n",
            "_________________________________________________________________\n",
            "activation_3 (Activation)    (None, 2, 25, 48)         0         \n",
            "_________________________________________________________________\n",
            "global_average_pooling2d_1 ( (None, 48)                0         \n",
            "_________________________________________________________________\n",
            "dense_1 (Dense)              (None, 10)                490       \n",
            "_________________________________________________________________\n",
            "activation_4 (Activation)    (None, 10)                0         \n",
            "=================================================================\n",
            "Total params: 87,610\n",
            "Trainable params: 87,610\n",
            "Non-trainable params: 0\n",
            "_________________________________________________________________\n"
          ],
          "name": "stdout"
        }
      ]
    },
    {
      "cell_type": "code",
      "metadata": {
        "id": "guGpT4aejjX_",
        "colab_type": "code",
        "colab": {}
      },
      "source": [
        "from keras.optimizers import Adam,SGD\n",
        "optimizer = SGD(lr=0.01, momentum=0.9,nesterov=True)\n",
        "\n",
        "from keras.callbacks import ReduceLROnPlateau\n",
        "learning_rate_reduction = ReduceLROnPlateau(monitor='val_acc', \n",
        "                                            patience=3, \n",
        "                                            verbose=1, \n",
        "                                            factor=0.2, \n",
        "                                            min_lr=0.0001)"
      ],
      "execution_count": 0,
      "outputs": []
    },
    {
      "cell_type": "code",
      "metadata": {
        "id": "TzR3vIWvG33D",
        "colab_type": "code",
        "outputId": "db8c94b3-b684-4b97-c77b-ae0287ab8ccb",
        "colab": {
          "base_uri": "https://localhost:8080/",
          "height": 1000
        }
      },
      "source": [
        "\n",
        "model.compile(\n",
        "\toptimizer=optimizer,\n",
        "\tloss=\"categorical_crossentropy\",\n",
        "\tmetrics=['accuracy'])\n",
        "\n",
        "history = model.fit(\n",
        "\tx=train_x, \n",
        "\ty=train_y,\n",
        "  epochs=30,\n",
        "  batch_size=64,\n",
        "  callbacks = [learning_rate_reduction],\n",
        "  validation_data= (test_x, test_y))\n"
      ],
      "execution_count": 0,
      "outputs": [
        {
          "output_type": "stream",
          "text": [
            "WARNING:tensorflow:From /usr/local/lib/python3.6/dist-packages/keras/optimizers.py:793: The name tf.train.Optimizer is deprecated. Please use tf.compat.v1.train.Optimizer instead.\n",
            "\n",
            "WARNING:tensorflow:From /usr/local/lib/python3.6/dist-packages/keras/backend/tensorflow_backend.py:3576: The name tf.log is deprecated. Please use tf.math.log instead.\n",
            "\n",
            "WARNING:tensorflow:From /usr/local/lib/python3.6/dist-packages/tensorflow/python/ops/math_grad.py:1250: add_dispatch_support.<locals>.wrapper (from tensorflow.python.ops.array_ops) is deprecated and will be removed in a future version.\n",
            "Instructions for updating:\n",
            "Use tf.where in 2.0, which has the same broadcast rule as np.where\n",
            "WARNING:tensorflow:From /usr/local/lib/python3.6/dist-packages/keras/backend/tensorflow_backend.py:1033: The name tf.assign_add is deprecated. Please use tf.compat.v1.assign_add instead.\n",
            "\n",
            "Train on 6500 samples, validate on 967 samples\n",
            "Epoch 1/30\n",
            "6500/6500 [==============================] - 10s 2ms/step - loss: 2.1531 - acc: 0.2745 - val_loss: 1.9658 - val_acc: 0.3640\n",
            "Epoch 2/30\n",
            "6500/6500 [==============================] - 2s 377us/step - loss: 1.8740 - acc: 0.3628 - val_loss: 1.7648 - val_acc: 0.3568\n",
            "Epoch 3/30\n",
            "6500/6500 [==============================] - 2s 380us/step - loss: 1.6123 - acc: 0.4391 - val_loss: 1.6303 - val_acc: 0.4891\n",
            "Epoch 4/30\n",
            "6500/6500 [==============================] - 2s 375us/step - loss: 1.5011 - acc: 0.4808 - val_loss: 1.5668 - val_acc: 0.4623\n",
            "Epoch 5/30\n",
            "6500/6500 [==============================] - 2s 379us/step - loss: 1.3448 - acc: 0.5426 - val_loss: 1.3870 - val_acc: 0.5832\n",
            "Epoch 6/30\n",
            "6500/6500 [==============================] - 2s 382us/step - loss: 1.3048 - acc: 0.5525 - val_loss: 1.3323 - val_acc: 0.5481\n",
            "Epoch 7/30\n",
            "6500/6500 [==============================] - 2s 378us/step - loss: 1.2800 - acc: 0.5640 - val_loss: 1.3178 - val_acc: 0.5388\n",
            "Epoch 8/30\n",
            "6500/6500 [==============================] - 2s 378us/step - loss: 1.1564 - acc: 0.5995 - val_loss: 1.2403 - val_acc: 0.5719\n",
            "\n",
            "Epoch 00008: ReduceLROnPlateau reducing learning rate to 0.0019999999552965165.\n",
            "Epoch 9/30\n",
            "6500/6500 [==============================] - 2s 380us/step - loss: 1.0150 - acc: 0.6538 - val_loss: 1.0777 - val_acc: 0.6360\n",
            "Epoch 10/30\n",
            "6500/6500 [==============================] - 2s 379us/step - loss: 0.9387 - acc: 0.6808 - val_loss: 1.0926 - val_acc: 0.6370\n",
            "Epoch 11/30\n",
            "6500/6500 [==============================] - 2s 375us/step - loss: 0.9211 - acc: 0.6880 - val_loss: 1.0156 - val_acc: 0.6649\n",
            "Epoch 12/30\n",
            "6500/6500 [==============================] - 2s 379us/step - loss: 0.8953 - acc: 0.6932 - val_loss: 1.0082 - val_acc: 0.6887\n",
            "Epoch 13/30\n",
            "6500/6500 [==============================] - 2s 380us/step - loss: 0.8645 - acc: 0.7049 - val_loss: 0.9753 - val_acc: 0.6732\n",
            "Epoch 14/30\n",
            "6500/6500 [==============================] - 2s 378us/step - loss: 0.8409 - acc: 0.7123 - val_loss: 1.0588 - val_acc: 0.6339\n",
            "Epoch 15/30\n",
            "6500/6500 [==============================] - 2s 374us/step - loss: 0.8250 - acc: 0.7158 - val_loss: 0.9810 - val_acc: 0.6515\n",
            "\n",
            "Epoch 00015: ReduceLROnPlateau reducing learning rate to 0.0003999999724328518.\n",
            "Epoch 16/30\n",
            "6500/6500 [==============================] - 2s 377us/step - loss: 0.7860 - acc: 0.7397 - val_loss: 0.9369 - val_acc: 0.6794\n",
            "Epoch 17/30\n",
            "6500/6500 [==============================] - 2s 381us/step - loss: 0.7711 - acc: 0.7434 - val_loss: 0.9209 - val_acc: 0.6898\n",
            "Epoch 18/30\n",
            "6500/6500 [==============================] - 2s 377us/step - loss: 0.7656 - acc: 0.7494 - val_loss: 0.9140 - val_acc: 0.7094\n",
            "Epoch 19/30\n",
            "6500/6500 [==============================] - 2s 375us/step - loss: 0.7595 - acc: 0.7485 - val_loss: 0.9235 - val_acc: 0.6908\n",
            "Epoch 20/30\n",
            "6500/6500 [==============================] - 2s 382us/step - loss: 0.7559 - acc: 0.7497 - val_loss: 0.9159 - val_acc: 0.6877\n",
            "Epoch 21/30\n",
            "6500/6500 [==============================] - 2s 382us/step - loss: 0.7513 - acc: 0.7475 - val_loss: 0.9109 - val_acc: 0.7094\n",
            "\n",
            "Epoch 00021: ReduceLROnPlateau reducing learning rate to 0.0001.\n",
            "Epoch 22/30\n",
            "6500/6500 [==============================] - 2s 377us/step - loss: 0.7409 - acc: 0.7582 - val_loss: 0.9002 - val_acc: 0.7115\n",
            "Epoch 23/30\n",
            "6500/6500 [==============================] - 2s 383us/step - loss: 0.7395 - acc: 0.7578 - val_loss: 0.9054 - val_acc: 0.6980\n",
            "Epoch 24/30\n",
            "6500/6500 [==============================] - 2s 382us/step - loss: 0.7380 - acc: 0.7582 - val_loss: 0.9010 - val_acc: 0.7135\n",
            "Epoch 25/30\n",
            "6500/6500 [==============================] - 2s 382us/step - loss: 0.7358 - acc: 0.7615 - val_loss: 0.9040 - val_acc: 0.7135\n",
            "Epoch 26/30\n",
            "6500/6500 [==============================] - 3s 385us/step - loss: 0.7359 - acc: 0.7620 - val_loss: 0.9014 - val_acc: 0.7166\n",
            "Epoch 27/30\n",
            "6500/6500 [==============================] - 2s 384us/step - loss: 0.7343 - acc: 0.7609 - val_loss: 0.9040 - val_acc: 0.7135\n",
            "Epoch 28/30\n",
            "6500/6500 [==============================] - 2s 381us/step - loss: 0.7331 - acc: 0.7620 - val_loss: 0.9003 - val_acc: 0.7166\n",
            "Epoch 29/30\n",
            "6500/6500 [==============================] - 2s 378us/step - loss: 0.7326 - acc: 0.7632 - val_loss: 0.8994 - val_acc: 0.7135\n",
            "Epoch 30/30\n",
            "6500/6500 [==============================] - 2s 384us/step - loss: 0.7305 - acc: 0.7632 - val_loss: 0.9011 - val_acc: 0.7156\n"
          ],
          "name": "stdout"
        }
      ]
    },
    {
      "cell_type": "code",
      "metadata": {
        "id": "Po278Pc7jm_a",
        "colab_type": "code",
        "outputId": "ffa28ed6-a7dc-49e0-a7dd-398b290f9043",
        "colab": {
          "base_uri": "https://localhost:8080/",
          "height": 67
        }
      },
      "source": [
        "score = model.evaluate(\n",
        "\tx=test_x,\n",
        "\ty=test_y)\n",
        "\n",
        "print('Test loss:', score[0])\n",
        "print('Test accuracy:', score[1])"
      ],
      "execution_count": 0,
      "outputs": [
        {
          "output_type": "stream",
          "text": [
            "967/967 [==============================] - 0s 236us/step\n",
            "Test loss: 0.9011219265295777\n",
            "Test accuracy: 0.7156153050980376\n"
          ],
          "name": "stdout"
        }
      ]
    },
    {
      "cell_type": "code",
      "metadata": {
        "id": "T1tZr8PYG36U",
        "colab_type": "code",
        "outputId": "7e4b3e81-dcc4-4d11-f806-532a1fb38dfb",
        "colab": {
          "base_uri": "https://localhost:8080/",
          "height": 118
        }
      },
      "source": [
        "score = model.evaluate(x = train_x , y = train_y)\n",
        "print(\"Training Accuracy :\",score[1])\n",
        "print('Training Loss:', score[0])\n",
        "\n",
        "score = model.evaluate(x = test_x , y = test_y)\n",
        "print(\"Test Accuracy :\",score[1])\n",
        "print('Test Loss:', score[0])"
      ],
      "execution_count": 0,
      "outputs": [
        {
          "output_type": "stream",
          "text": [
            "6500/6500 [==============================] - 1s 202us/step\n",
            "Training Accuracy : 0.7644615384615384\n",
            "Training Loss: 0.7311899927212642\n",
            "967/967 [==============================] - 0s 214us/step\n",
            "Test Accuracy : 0.7156153050980376\n",
            "Test Loss: 0.9011219265295777\n"
          ],
          "name": "stdout"
        }
      ]
    },
    {
      "cell_type": "code",
      "metadata": {
        "id": "PgXJ5pDYGeAV",
        "colab_type": "code",
        "outputId": "b1451700-ddd2-4f36-a0a6-0bc45149d4c0",
        "colab": {
          "base_uri": "https://localhost:8080/",
          "height": 573
        }
      },
      "source": [
        "# summarize history for accuracy\n",
        "plt.plot(history.history['acc'])\n",
        "plt.plot(history.history['val_acc'])\n",
        "plt.title('model accuracy')\n",
        "plt.ylabel('accuracy')\n",
        "plt.xlabel('epoch')\n",
        "plt.legend(['train', 'test'], loc='upper left')\n",
        "plt.show()\n",
        "# summarize history for loss\n",
        "plt.plot(history.history['loss'])\n",
        "plt.plot(history.history['val_loss'])\n",
        "plt.title('model loss')\n",
        "plt.ylabel('loss')\n",
        "plt.xlabel('epoch')\n",
        "plt.legend(['train', 'test'], loc='upper left')\n",
        "plt.show()"
      ],
      "execution_count": 0,
      "outputs": [
        {
          "output_type": "display_data",
          "data": {
            "image/png": "[encoded data removed]",
            "text/plain": [
              "<Figure size 432x288 with 1 Axes>"
            ]
          },
          "metadata": {
            "tags": []
          }
        },
        {
          "output_type": "display_data",
          "data": {
            "image/png": "[encoded data removed]",
            "text/plain": [
              "<Figure size 432x288 with 1 Axes>"
            ]
          },
          "metadata": {
            "tags": []
          }
        }
      ]
    },
    {
      "cell_type": "code",
      "metadata": {
        "id": "w4tueH0ZGeDl",
        "colab_type": "code",
        "colab": {}
      },
      "source": [
        "\n",
        "pred = model.predict(test_x)\n",
        "pred = np.argmax(pred,axis = 1) \n",
        "y_true = np.argmax(test_y,axis = 1)"
      ],
      "execution_count": 0,
      "outputs": []
    },
    {
      "cell_type": "code",
      "metadata": {
        "id": "WniXikxgGeG6",
        "colab_type": "code",
        "outputId": "12a2e2d3-338c-47eb-99a6-d2233576188c",
        "colab": {
          "base_uri": "https://localhost:8080/",
          "height": 185
        }
      },
      "source": [
        "from sklearn.metrics import confusion_matrix\n",
        "import seaborn as sns\n",
        "\n",
        "CM = confusion_matrix(y_true, pred)\n",
        "print(CM)"
      ],
      "execution_count": 0,
      "outputs": [
        {
          "output_type": "stream",
          "text": [
            "[[ 99   0   3   0   5   4   0   8   1  17]\n",
            " [  1  15   2   0   3   0   0   2   2   2]\n",
            " [  4   0  75   8   1   0   0   1  12  12]\n",
            " [  6   0  25  51   1   0   0   0   5   0]\n",
            " [  4   1   2   1  98   1   0   7   4   6]\n",
            " [ 14   0   5   0   0  66   0  12   1   0]\n",
            " [  1   0   0   0   0   1   5   0   0   0]\n",
            " [ 13   0   1   0  11   7   0  84   0   0]\n",
            " [  5   2   8   0   2   2   0   0  96   4]\n",
            " [ 11   1  10   3   4   2   0   0   4 103]]\n"
          ],
          "name": "stdout"
        }
      ]
    },
    {
      "cell_type": "code",
      "metadata": {
        "id": "tp-JuvBlGeKG",
        "colab_type": "code",
        "outputId": "3b61d8ac-5339-4df2-b2e0-53a24b47674e",
        "colab": {
          "base_uri": "https://localhost:8080/",
          "height": 300
        }
      },
      "source": [
        "sns.heatmap(CM, annot=True, fmt=\"d\")\n",
        "plt.xlabel(\"Predicted label\")\n",
        "plt.ylabel(\"True label\")"
      ],
      "execution_count": 0,
      "outputs": [
        {
          "output_type": "execute_result",
          "data": {
            "text/plain": [
              "Text(33.0, 0.5, 'True label')"
            ]
          },
          "metadata": {
            "tags": []
          },
          "execution_count": 23
        },
        {
          "output_type": "display_data",
          "data": {
            "image/png": "[encoded data removed]",
            "text/plain": [
              "<Figure size 432x288 with 2 Axes>"
            ]
          },
          "metadata": {
            "tags": []
          }
        }
      ]
    },
    {
      "cell_type": "code",
      "metadata": {
        "id": "F4gZPLVzGeRE",
        "colab_type": "code",
        "outputId": "b9a410d0-9820-4262-f23f-670515ef52f8",
        "colab": {
          "base_uri": "https://localhost:8080/",
          "height": 185
        }
      },
      "source": [
        "sum=0\n",
        "for i in range(10):\n",
        "  for j in range(10):\n",
        "    sum+=CM[i][j]\n",
        "    if(i==j):\n",
        "      x=CM[i][j]\n",
        "  print(i,\" \",x/sum)\n",
        "  sum=0\n",
        "     \n",
        "    "
      ],
      "execution_count": 0,
      "outputs": [
        {
          "output_type": "stream",
          "text": [
            "0   0.7226277372262774\n",
            "1   0.5555555555555556\n",
            "2   0.6637168141592921\n",
            "3   0.5795454545454546\n",
            "4   0.7903225806451613\n",
            "5   0.673469387755102\n",
            "6   0.7142857142857143\n",
            "7   0.7241379310344828\n",
            "8   0.8067226890756303\n",
            "9   0.7463768115942029\n"
          ],
          "name": "stdout"
        }
      ]
    },
    {
      "cell_type": "code",
      "metadata": {
        "id": "rOO_yjnTGeUO",
        "colab_type": "code",
        "colab": {}
      },
      "source": [
        "np.save('/content/drive/My Drive/Noisy_Sound_Classification/UrbanSound8K/melspec_train_acc.npy', history.history['acc'])\n",
        "np.save('/content/drive/My Drive/Noisy_Sound_Classification/UrbanSound8K/melspec_test_acc.npy', history.history['val_acc'])\n",
        "np.save('/content/drive/My Drive/Noisy_Sound_Classification/UrbanSound8K/melspec_train_loss.npy', history.history['loss'])\n",
        "np.save('/content/drive/My Drive/Noisy_Sound_Classification/UrbanSound8K/melspec_test_loss.npy', history.history['val_loss']) "
      ],
      "execution_count": 0,
      "outputs": []
    },
    {
      "cell_type": "code",
      "metadata": {
        "id": "PJA51aYuGeXm",
        "colab_type": "code",
        "colab": {}
      },
      "source": [
        ""
      ],
      "execution_count": 0,
      "outputs": []
    },
    {
      "cell_type": "code",
      "metadata": {
        "id": "axvcpcnTGea_",
        "colab_type": "code",
        "colab": {}
      },
      "source": [
        ""
      ],
      "execution_count": 0,
      "outputs": []
    },
    {
      "cell_type": "code",
      "metadata": {
        "id": "MRvVnzM4Geeg",
        "colab_type": "code",
        "colab": {}
      },
      "source": [
        ""
      ],
      "execution_count": 0,
      "outputs": []
    },
    {
      "cell_type": "code",
      "metadata": {
        "id": "jqJ2iAvyGeh5",
        "colab_type": "code",
        "colab": {}
      },
      "source": [
        ""
      ],
      "execution_count": 0,
      "outputs": []
    },
    {
      "cell_type": "code",
      "metadata": {
        "id": "2EEjb500GeOd",
        "colab_type": "code",
        "colab": {}
      },
      "source": [
        ""
      ],
      "execution_count": 0,
      "outputs": []
    }
  ]
}