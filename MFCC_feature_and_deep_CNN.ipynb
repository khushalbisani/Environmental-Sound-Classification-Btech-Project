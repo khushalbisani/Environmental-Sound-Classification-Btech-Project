{
  "nbformat": 4,
  "nbformat_minor": 0,
  "metadata": {
    "colab": {
      "name": "MFCC_feature_and_deep_CNN.ipynb",
      "provenance": [],
      "collapsed_sections": [],
      "include_colab_link": true
    },
    "kernelspec": {
      "name": "python3",
      "display_name": "Python 3"
    },
    "accelerator": "GPU"
  },
  "cells": [
    {
      "cell_type": "markdown",
      "metadata": {
        "id": "view-in-github",
        "colab_type": "text"
      },
      "source": [
        "<a href=\"https://colab.research.google.com/github/khushalbisani/Urban-Sound-Classification-Btech-Project/blob/master/MFCC_feature_and_deep_CNN.ipynb\" target=\"_parent\"><img src=\"https://colab.research.google.com/assets/colab-badge.svg\" alt=\"Open In Colab\"/></a>"
      ]
    },
    {
      "cell_type": "code",
      "metadata": {
        "id": "klCodutkvLCo",
        "colab_type": "code",
        "outputId": "9e97ed11-644e-48e8-8c10-7d4e78d16d4c",
        "colab": {
          "base_uri": "https://localhost:8080/",
          "height": 118
        }
      },
      "source": [
        "!pip install numpy\n",
        "!pip install helpers\n",
        "!pip install soundfile\n",
        "import numpy as np\n",
        "import pandas as pd\n",
        "import matplotlib.pyplot as plt\n",
        "import tensorflow as tf\n",
        "import keras\n",
        "from keras.layers import Activation, Dense, Dropout, Conv2D, Flatten, MaxPooling2D , GlobalAveragePooling2D\n",
        "from keras.models import Sequential\n",
        "import random\n",
        "import librosa\n",
        "import librosa.display\n",
        "import os\n",
        "import  IPython.display as ipd\n",
        "from scipy.io import wavfile as wav\n",
        "import helpers\n",
        "import soundfile as sf\n",
        "%matplotlib inline"
      ],
      "execution_count": 0,
      "outputs": [
        {
          "output_type": "stream",
          "text": [
            "Requirement already satisfied: numpy in /usr/local/lib/python3.6/dist-packages (1.16.5)\n",
            "Requirement already satisfied: helpers in /usr/local/lib/python3.6/dist-packages (0.2.0)\n",
            "Requirement already satisfied: soundfile in /usr/local/lib/python3.6/dist-packages (0.10.2)\n",
            "Requirement already satisfied: cffi>=1.0 in /usr/local/lib/python3.6/dist-packages (from soundfile) (1.12.3)\n",
            "Requirement already satisfied: pycparser in /usr/local/lib/python3.6/dist-packages (from cffi>=1.0->soundfile) (2.19)\n"
          ],
          "name": "stdout"
        },
        {
          "output_type": "stream",
          "text": [
            "Using TensorFlow backend.\n"
          ],
          "name": "stderr"
        }
      ]
    },
    {
      "cell_type": "code",
      "metadata": {
        "id": "zcBWyeXPvUDx",
        "colab_type": "code",
        "outputId": "c44539df-1a1a-4836-a9f8-d34f9d9bbeaa",
        "colab": {
          "base_uri": "https://localhost:8080/",
          "height": 54
        }
      },
      "source": [
        "from google.colab import drive\n",
        "drive.mount('/content/drive/')"
      ],
      "execution_count": 0,
      "outputs": [
        {
          "output_type": "stream",
          "text": [
            "Drive already mounted at /content/drive/; to attempt to forcibly remount, call drive.mount(\"/content/drive/\", force_remount=True).\n"
          ],
          "name": "stdout"
        }
      ]
    },
    {
      "cell_type": "code",
      "metadata": {
        "id": "uS9VDSRHvfo3",
        "colab_type": "code",
        "outputId": "9845842b-24bb-4f2a-dfb2-1c3ea4e018a7",
        "colab": {
          "base_uri": "https://localhost:8080/",
          "height": 195
        }
      },
      "source": [
        "path = \"/content/drive/My Drive/Noisy_Sound_Classification/UrbanSound8K/\"\n",
        "data = pd.read_csv(path + \"metadata/UrbanSound8K.csv\")\n",
        "data.head()"
      ],
      "execution_count": 0,
      "outputs": [
        {
          "output_type": "execute_result",
          "data": {
            "text/html": [
              "<div>\n",
              "<style scoped>\n",
              "    .dataframe tbody tr th:only-of-type {\n",
              "        vertical-align: middle;\n",
              "    }\n",
              "\n",
              "    .dataframe tbody tr th {\n",
              "        vertical-align: top;\n",
              "    }\n",
              "\n",
              "    .dataframe thead th {\n",
              "        text-align: right;\n",
              "    }\n",
              "</style>\n",
              "<table border=\"1\" class=\"dataframe\">\n",
              "  <thead>\n",
              "    <tr style=\"text-align: right;\">\n",
              "      <th></th>\n",
              "      <th>slice_file_name</th>\n",
              "      <th>fsID</th>\n",
              "      <th>start</th>\n",
              "      <th>end</th>\n",
              "      <th>salience</th>\n",
              "      <th>fold</th>\n",
              "      <th>classID</th>\n",
              "      <th>class</th>\n",
              "    </tr>\n",
              "  </thead>\n",
              "  <tbody>\n",
              "    <tr>\n",
              "      <th>0</th>\n",
              "      <td>100032-3-0-0.wav</td>\n",
              "      <td>100032</td>\n",
              "      <td>0.0</td>\n",
              "      <td>0.317551</td>\n",
              "      <td>1</td>\n",
              "      <td>5</td>\n",
              "      <td>3</td>\n",
              "      <td>dog_bark</td>\n",
              "    </tr>\n",
              "    <tr>\n",
              "      <th>1</th>\n",
              "      <td>100263-2-0-117.wav</td>\n",
              "      <td>100263</td>\n",
              "      <td>58.5</td>\n",
              "      <td>62.500000</td>\n",
              "      <td>1</td>\n",
              "      <td>5</td>\n",
              "      <td>2</td>\n",
              "      <td>children_playing</td>\n",
              "    </tr>\n",
              "    <tr>\n",
              "      <th>2</th>\n",
              "      <td>100263-2-0-121.wav</td>\n",
              "      <td>100263</td>\n",
              "      <td>60.5</td>\n",
              "      <td>64.500000</td>\n",
              "      <td>1</td>\n",
              "      <td>5</td>\n",
              "      <td>2</td>\n",
              "      <td>children_playing</td>\n",
              "    </tr>\n",
              "    <tr>\n",
              "      <th>3</th>\n",
              "      <td>100263-2-0-126.wav</td>\n",
              "      <td>100263</td>\n",
              "      <td>63.0</td>\n",
              "      <td>67.000000</td>\n",
              "      <td>1</td>\n",
              "      <td>5</td>\n",
              "      <td>2</td>\n",
              "      <td>children_playing</td>\n",
              "    </tr>\n",
              "    <tr>\n",
              "      <th>4</th>\n",
              "      <td>100263-2-0-137.wav</td>\n",
              "      <td>100263</td>\n",
              "      <td>68.5</td>\n",
              "      <td>72.500000</td>\n",
              "      <td>1</td>\n",
              "      <td>5</td>\n",
              "      <td>2</td>\n",
              "      <td>children_playing</td>\n",
              "    </tr>\n",
              "  </tbody>\n",
              "</table>\n",
              "</div>"
            ],
            "text/plain": [
              "      slice_file_name    fsID  start  ...  fold  classID             class\n",
              "0    100032-3-0-0.wav  100032    0.0  ...     5        3          dog_bark\n",
              "1  100263-2-0-117.wav  100263   58.5  ...     5        2  children_playing\n",
              "2  100263-2-0-121.wav  100263   60.5  ...     5        2  children_playing\n",
              "3  100263-2-0-126.wav  100263   63.0  ...     5        2  children_playing\n",
              "4  100263-2-0-137.wav  100263   68.5  ...     5        2  children_playing\n",
              "\n",
              "[5 rows x 8 columns]"
            ]
          },
          "metadata": {
            "tags": []
          },
          "execution_count": 3
        }
      ]
    },
    {
      "cell_type": "code",
      "metadata": {
        "id": "E9PyEhTpbdmj",
        "colab_type": "code",
        "colab": {}
      },
      "source": [
        "# import subprocess\n",
        "# subprocess.Popen(['ffmpeg'],shell=True)"
      ],
      "execution_count": 0,
      "outputs": []
    },
    {
      "cell_type": "code",
      "metadata": {
        "id": "K459UV5zvl8i",
        "colab_type": "code",
        "colab": {}
      },
      "source": [
        "mfcc_fea = []\n",
        "max_pad_len = 174\n",
        "\n",
        "def extract_feature_mfcc(file_name):\n",
        "  audio , sample_rate = librosa.load(file_name , res_type = 'kaiser_fast')\n",
        "  mf = librosa.feature.mfcc(y = audio , sr = sample_rate,n_mfcc = 40)\n",
        "  width = max_pad_len - mf.shape[1]\n",
        "  mf = np.pad(mf , pad_width = ((0,0),(0,width)) , mode = 'constant')\n",
        "  return mf"
      ],
      "execution_count": 0,
      "outputs": []
    },
    {
      "cell_type": "code",
      "metadata": {
        "id": "k7cQSIU5ZU96",
        "colab_type": "code",
        "colab": {}
      },
      "source": [
        "# len(mfcc_fea)"
      ],
      "execution_count": 0,
      "outputs": []
    },
    {
      "cell_type": "code",
      "metadata": {
        "id": "HE75-86WeEC6",
        "colab_type": "code",
        "colab": {}
      },
      "source": [
        "# for row in range(len(data)):\n",
        "#   file_name = \"/content/drive/My Drive/Noisy_Sound_Classification/UrbanSound8K/\" + \"audio/\" + \"fold\" + str(data['fold'][row]) + \"/\" + str(data['slice_file_name'][row])\n",
        "#   if data['end'][row]-data['start'][row] >= 3:\n",
        "#     class_label = data[\"classID\"][row]\n",
        "#     fea = extract_feature_mfcc(file_name)\n",
        "#     if fea.shape != (40,174) : continue\n",
        "#     mfcc_fea.append((fea,class_label))\n",
        "#   print(row)"
      ],
      "execution_count": 0,
      "outputs": []
    },
    {
      "cell_type": "code",
      "metadata": {
        "id": "Sschgqx9ZFIB",
        "colab_type": "code",
        "colab": {}
      },
      "source": [
        "# len(mfcc_fea)"
      ],
      "execution_count": 0,
      "outputs": []
    },
    {
      "cell_type": "code",
      "metadata": {
        "id": "YvwnNHKFVsHU",
        "colab_type": "code",
        "colab": {}
      },
      "source": [
        "# mf_data = mfcc_fea\n",
        "# random.shuffle(mf_data)\n",
        "\n",
        "# train = mf_data[:6500]\n",
        "# test = mf_data[6500:]\n",
        "\n",
        "# train_x , train_y = zip(*train)\n",
        "# test_x , test_y = zip(*test)\n",
        "\n",
        "# train_x = np.array([x.reshape((40,174,1)) for x in train_x]) \n",
        "# test_x = np.array([x.reshape((40,174,1)) for x in test_x])\n",
        "\n",
        "# train_y = np.array(keras.utils.to_categorical(train_y, 10))\n",
        "# test_y = np.array(keras.utils.to_categorical(test_y, 10))"
      ],
      "execution_count": 0,
      "outputs": []
    },
    {
      "cell_type": "code",
      "metadata": {
        "id": "qe-0aym-XtCE",
        "colab_type": "code",
        "colab": {}
      },
      "source": [
        "# print(train_x.shape)\n",
        "# print(train_y.shape)\n",
        "# print(test_x.shape)\n",
        "# print(test_y.shape)"
      ],
      "execution_count": 0,
      "outputs": []
    },
    {
      "cell_type": "code",
      "metadata": {
        "id": "Kw7-BAjaX62w",
        "colab_type": "code",
        "colab": {}
      },
      "source": [
        "# np.save('/content/drive/My Drive/Noisy_Sound_Classification/UrbanSound8K/np_array_train_x_mfcc.npy', train_x)\n",
        "# np.save('/content/drive/My Drive/Noisy_Sound_Classification/UrbanSound8K/np_array_train_y_mfcc.npy', train_y)\n",
        "# np.save('/content/drive/My Drive/Noisy_Sound_Classification/UrbanSound8K/np_array_test_x_mfcc.npy', test_x)\n",
        "# np.save('/content/drive/My Drive/Noisy_Sound_Classification/UrbanSound8K/np_array_test_y_mfcc.npy', test_y) "
      ],
      "execution_count": 0,
      "outputs": []
    },
    {
      "cell_type": "code",
      "metadata": {
        "id": "Y9DiJd73yn1e",
        "colab_type": "code",
        "colab": {}
      },
      "source": [
        "train_x = np.load('/content/drive/My Drive/Noisy_Sound_Classification/UrbanSound8K/np_array_train_x_mfcc.npy')\n",
        "train_y = np.load('/content/drive/My Drive/Noisy_Sound_Classification/UrbanSound8K/np_array_train_y_mfcc.npy')\n",
        "test_x = np.load('/content/drive/My Drive/Noisy_Sound_Classification/UrbanSound8K/np_array_test_x_mfcc.npy')\n",
        "test_y = np.load('/content/drive/My Drive/Noisy_Sound_Classification/UrbanSound8K/np_array_test_y_mfcc.npy')"
      ],
      "execution_count": 0,
      "outputs": []
    },
    {
      "cell_type": "code",
      "metadata": {
        "id": "mRhlMl44y9-W",
        "colab_type": "code",
        "outputId": "856c03f4-0f2e-4ee4-fcd3-73c4a4ac5f98",
        "colab": {
          "base_uri": "https://localhost:8080/",
          "height": 84
        }
      },
      "source": [
        "print(train_x.shape)\n",
        "print(train_y.shape)\n",
        "print(test_x.shape)\n",
        "print(test_y.shape)"
      ],
      "execution_count": 0,
      "outputs": [
        {
          "output_type": "stream",
          "text": [
            "(6500, 40, 174, 1)\n",
            "(6500, 10)\n",
            "(968, 40, 174, 1)\n",
            "(968, 10)\n"
          ],
          "name": "stdout"
        }
      ]
    },
    {
      "cell_type": "code",
      "metadata": {
        "id": "ZmBG3C7dzRx9",
        "colab_type": "code",
        "outputId": "5a831eb9-83b6-457f-97d9-e26e61a26000",
        "colab": {
          "base_uri": "https://localhost:8080/",
          "height": 171
        }
      },
      "source": [
        "model = Sequential()\n",
        "input_shape = (40,174,1)\n",
        "\n",
        "model.add(Conv2D(16,(2,2),input_shape = input_shape , activation='relu'))\n",
        "model.add(MaxPooling2D(2,2))\n",
        "\n",
        "model.add(Conv2D(32,(2,2), activation='relu'))\n",
        "model.add(MaxPooling2D(2,2))\n",
        "\n",
        "model.add(Conv2D(64,(2,2), activation='relu'))\n",
        "model.add(MaxPooling2D(2,2))\n",
        "\n",
        "model.add(Conv2D(128,(2,2), activation='relu'))\n",
        "model.add(MaxPooling2D(2,2))\n",
        "\n",
        "model.add(GlobalAveragePooling2D())\n",
        "\n",
        "model.add(Dense(10 , activation='softmax'))"
      ],
      "execution_count": 0,
      "outputs": [
        {
          "output_type": "stream",
          "text": [
            "WARNING:tensorflow:From /usr/local/lib/python3.6/dist-packages/keras/backend/tensorflow_backend.py:66: The name tf.get_default_graph is deprecated. Please use tf.compat.v1.get_default_graph instead.\n",
            "\n",
            "WARNING:tensorflow:From /usr/local/lib/python3.6/dist-packages/keras/backend/tensorflow_backend.py:541: The name tf.placeholder is deprecated. Please use tf.compat.v1.placeholder instead.\n",
            "\n",
            "WARNING:tensorflow:From /usr/local/lib/python3.6/dist-packages/keras/backend/tensorflow_backend.py:4432: The name tf.random_uniform is deprecated. Please use tf.random.uniform instead.\n",
            "\n",
            "WARNING:tensorflow:From /usr/local/lib/python3.6/dist-packages/keras/backend/tensorflow_backend.py:4267: The name tf.nn.max_pool is deprecated. Please use tf.nn.max_pool2d instead.\n",
            "\n"
          ],
          "name": "stdout"
        }
      ]
    },
    {
      "cell_type": "code",
      "metadata": {
        "id": "oi3rgGNB3vwC",
        "colab_type": "code",
        "outputId": "f2f3371d-13bb-4931-d256-85ef58f6ac9c",
        "colab": {
          "base_uri": "https://localhost:8080/",
          "height": 487
        }
      },
      "source": [
        "model.summary()"
      ],
      "execution_count": 0,
      "outputs": [
        {
          "output_type": "stream",
          "text": [
            "Model: \"sequential_1\"\n",
            "_________________________________________________________________\n",
            "Layer (type)                 Output Shape              Param #   \n",
            "=================================================================\n",
            "conv2d_1 (Conv2D)            (None, 39, 173, 16)       80        \n",
            "_________________________________________________________________\n",
            "max_pooling2d_1 (MaxPooling2 (None, 19, 86, 16)        0         \n",
            "_________________________________________________________________\n",
            "conv2d_2 (Conv2D)            (None, 18, 85, 32)        2080      \n",
            "_________________________________________________________________\n",
            "max_pooling2d_2 (MaxPooling2 (None, 9, 42, 32)         0         \n",
            "_________________________________________________________________\n",
            "conv2d_3 (Conv2D)            (None, 8, 41, 64)         8256      \n",
            "_________________________________________________________________\n",
            "max_pooling2d_3 (MaxPooling2 (None, 4, 20, 64)         0         \n",
            "_________________________________________________________________\n",
            "conv2d_4 (Conv2D)            (None, 3, 19, 128)        32896     \n",
            "_________________________________________________________________\n",
            "max_pooling2d_4 (MaxPooling2 (None, 1, 9, 128)         0         \n",
            "_________________________________________________________________\n",
            "global_average_pooling2d_1 ( (None, 128)               0         \n",
            "_________________________________________________________________\n",
            "dense_1 (Dense)              (None, 10)                1290      \n",
            "=================================================================\n",
            "Total params: 44,602\n",
            "Trainable params: 44,602\n",
            "Non-trainable params: 0\n",
            "_________________________________________________________________\n"
          ],
          "name": "stdout"
        }
      ]
    },
    {
      "cell_type": "code",
      "metadata": {
        "id": "jJDXnpiS32ue",
        "colab_type": "code",
        "outputId": "44ad7a9b-3c06-40b3-9139-132fd2fd8d74",
        "colab": {
          "base_uri": "https://localhost:8080/",
          "height": 759
        }
      },
      "source": [
        "model.compile(\n",
        "\toptimizer=\"Adam\",\n",
        "\tloss=\"categorical_crossentropy\",\n",
        "\tmetrics=['accuracy'])\n",
        "\n",
        "history = model.fit(\n",
        "\tx=train_x, \n",
        "\ty=train_y,\n",
        "  epochs=15,\n",
        "  batch_size=128,\n",
        "    \n",
        "  validation_data= (test_x, test_y))\n",
        "\n",
        "score = model.evaluate(\n",
        "\tx=test_x,\n",
        "\ty=test_y)\n",
        "\n",
        "print('Test loss:', score[0])\n",
        "print('Test accuracy:', score[1])"
      ],
      "execution_count": 0,
      "outputs": [
        {
          "output_type": "stream",
          "text": [
            "WARNING:tensorflow:From /usr/local/lib/python3.6/dist-packages/keras/optimizers.py:793: The name tf.train.Optimizer is deprecated. Please use tf.compat.v1.train.Optimizer instead.\n",
            "\n",
            "WARNING:tensorflow:From /usr/local/lib/python3.6/dist-packages/keras/backend/tensorflow_backend.py:3576: The name tf.log is deprecated. Please use tf.math.log instead.\n",
            "\n",
            "WARNING:tensorflow:From /usr/local/lib/python3.6/dist-packages/tensorflow/python/ops/math_grad.py:1250: add_dispatch_support.<locals>.wrapper (from tensorflow.python.ops.array_ops) is deprecated and will be removed in a future version.\n",
            "Instructions for updating:\n",
            "Use tf.where in 2.0, which has the same broadcast rule as np.where\n",
            "WARNING:tensorflow:From /usr/local/lib/python3.6/dist-packages/keras/backend/tensorflow_backend.py:1033: The name tf.assign_add is deprecated. Please use tf.compat.v1.assign_add instead.\n",
            "\n",
            "Train on 6500 samples, validate on 968 samples\n",
            "Epoch 1/15\n",
            "6500/6500 [==============================] - 4s 631us/step - loss: 2.0205 - acc: 0.3803 - val_loss: 1.2646 - val_acc: 0.5713\n",
            "Epoch 2/15\n",
            "6500/6500 [==============================] - 2s 257us/step - loss: 1.1801 - acc: 0.5998 - val_loss: 0.9890 - val_acc: 0.6694\n",
            "Epoch 3/15\n",
            "6500/6500 [==============================] - 2s 263us/step - loss: 0.9957 - acc: 0.6651 - val_loss: 0.8422 - val_acc: 0.7242\n",
            "Epoch 4/15\n",
            "6500/6500 [==============================] - 2s 258us/step - loss: 0.8106 - acc: 0.7240 - val_loss: 0.7484 - val_acc: 0.7376\n",
            "Epoch 5/15\n",
            "6500/6500 [==============================] - 2s 258us/step - loss: 0.6974 - acc: 0.7634 - val_loss: 0.6125 - val_acc: 0.7955\n",
            "Epoch 6/15\n",
            "6500/6500 [==============================] - 2s 258us/step - loss: 0.5902 - acc: 0.8075 - val_loss: 0.5709 - val_acc: 0.8017\n",
            "Epoch 7/15\n",
            "6500/6500 [==============================] - 2s 259us/step - loss: 0.5506 - acc: 0.8131 - val_loss: 0.5928 - val_acc: 0.8027\n",
            "Epoch 8/15\n",
            "6500/6500 [==============================] - 2s 254us/step - loss: 0.4869 - acc: 0.8460 - val_loss: 0.4408 - val_acc: 0.8636\n",
            "Epoch 9/15\n",
            "6500/6500 [==============================] - 2s 263us/step - loss: 0.4263 - acc: 0.8598 - val_loss: 0.4013 - val_acc: 0.8564\n",
            "Epoch 10/15\n",
            "6500/6500 [==============================] - 2s 254us/step - loss: 0.3731 - acc: 0.8817 - val_loss: 0.5087 - val_acc: 0.8213\n",
            "Epoch 11/15\n",
            "6500/6500 [==============================] - 2s 264us/step - loss: 0.3910 - acc: 0.8688 - val_loss: 0.3573 - val_acc: 0.8791\n",
            "Epoch 12/15\n",
            "6500/6500 [==============================] - 2s 252us/step - loss: 0.3254 - acc: 0.8968 - val_loss: 0.4698 - val_acc: 0.8357\n",
            "Epoch 13/15\n",
            "6500/6500 [==============================] - 2s 258us/step - loss: 0.3073 - acc: 0.8977 - val_loss: 0.3498 - val_acc: 0.8709\n",
            "Epoch 14/15\n",
            "6500/6500 [==============================] - 2s 256us/step - loss: 0.2974 - acc: 0.8998 - val_loss: 0.3184 - val_acc: 0.8905\n",
            "Epoch 15/15\n",
            "6500/6500 [==============================] - 2s 261us/step - loss: 0.2568 - acc: 0.9129 - val_loss: 0.3100 - val_acc: 0.8905\n",
            "968/968 [==============================] - 0s 181us/step\n",
            "Test loss: 0.3100424865799502\n",
            "Test accuracy: 0.890495867768595\n"
          ],
          "name": "stdout"
        }
      ]
    },
    {
      "cell_type": "code",
      "metadata": {
        "id": "Nd6288494Ob2",
        "colab_type": "code",
        "outputId": "26e90417-938b-49f5-adc1-66bda82966c0",
        "colab": {
          "base_uri": "https://localhost:8080/",
          "height": 118
        }
      },
      "source": [
        "score = model.evaluate(x = train_x , y = train_y)\n",
        "print(\"Training Accuracy :\",score[1])\n",
        "print('Training Loss:', score[0])\n",
        "\n",
        "score = model.evaluate(x = test_x , y = test_y)\n",
        "print(\"Test Accuracy :\",score[1])\n",
        "print('Test Loss:', score[0])\n"
      ],
      "execution_count": 0,
      "outputs": [
        {
          "output_type": "stream",
          "text": [
            "6500/6500 [==============================] - 1s 133us/step\n",
            "Training Accuracy : 0.9133846153846154\n",
            "Training Loss: 0.2510189772752615\n",
            "968/968 [==============================] - 0s 129us/step\n",
            "Test Accuracy : 0.890495867768595\n",
            "Test Loss: 0.3100424865799502\n"
          ],
          "name": "stdout"
        }
      ]
    },
    {
      "cell_type": "code",
      "metadata": {
        "id": "Lpqf6j4bEDwm",
        "colab_type": "code",
        "outputId": "7f5d532f-01db-4d83-ea2d-ad82816c2335",
        "colab": {
          "base_uri": "https://localhost:8080/",
          "height": 573
        }
      },
      "source": [
        "# from keras import utils\n",
        "# utils.plot_model(model, to_file=path+'mfcc_cnn_model.png', show_shapes=True, show_layer_names=True, rankdir='LR')\n",
        "# summarize history for accuracy\n",
        "plt.plot(history.history['acc'])\n",
        "plt.plot(history.history['val_acc'])\n",
        "plt.title('model accuracy')\n",
        "plt.ylabel('accuracy')\n",
        "plt.xlabel('epoch')\n",
        "plt.legend(['train', 'test'], loc='upper left')\n",
        "plt.show()\n",
        "# summarize history for loss\n",
        "plt.plot(history.history['loss'])\n",
        "plt.plot(history.history['val_loss'])\n",
        "plt.title('model loss')\n",
        "plt.ylabel('loss')\n",
        "plt.xlabel('epoch')\n",
        "plt.legend(['train', 'test'], loc='upper left')\n",
        "plt.show()"
      ],
      "execution_count": 0,
      "outputs": [
        {
          "output_type": "display_data",
          "data": {
            "image/png": "[encoded data removed]",
            "text/plain": [
              "<Figure size 432x288 with 1 Axes>"
            ]
          },
          "metadata": {
            "tags": []
          }
        },
        {
          "output_type": "display_data",
          "data": {
            "image/png": "[encoded data removed]",
            "text/plain": [
              "<Figure size 432x288 with 1 Axes>"
            ]
          },
          "metadata": {
            "tags": []
          }
        }
      ]
    },
    {
      "cell_type": "code",
      "metadata": {
        "id": "cOp2DpgYX1qv",
        "colab_type": "code",
        "colab": {}
      },
      "source": [
        "\n",
        "pred = model.predict(test_x)\n",
        "pred = np.argmax(pred,axis = 1) \n",
        "y_true = np.argmax(test_y,axis = 1)"
      ],
      "execution_count": 0,
      "outputs": []
    },
    {
      "cell_type": "code",
      "metadata": {
        "id": "HAVicDWBX105",
        "colab_type": "code",
        "outputId": "e8e48b92-013c-42c9-ac6e-ca915f51999b",
        "colab": {
          "base_uri": "https://localhost:8080/",
          "height": 185
        }
      },
      "source": [
        "from sklearn.metrics import confusion_matrix\n",
        "import seaborn as sns\n",
        "\n",
        "CM = confusion_matrix(y_true, pred)\n",
        "print(CM)"
      ],
      "execution_count": 0,
      "outputs": [
        {
          "output_type": "stream",
          "text": [
            "[[115   0   1   0   1   0   0   1   2   1]\n",
            " [  1  25   0   0   2   0   0   1   0   0]\n",
            " [  1   0  95   3   3   2   0   0   3  21]\n",
            " [  0   0   2  75   2   1   0   0   2   4]\n",
            " [  0   0   0   0 102   0   0   2   0   0]\n",
            " [  0   0   0   0   2 108   0   0   2   3]\n",
            " [  0   0   0   0   0   0   5   0   0   0]\n",
            " [  1   0   0   0  17   0   0 110   0   1]\n",
            " [  1   0   0   0   0   0   0   0 121   2]\n",
            " [  6   0   6   1   6   2   0   0   0 106]]\n"
          ],
          "name": "stdout"
        }
      ]
    },
    {
      "cell_type": "code",
      "metadata": {
        "id": "hTTcA0Cez2VY",
        "colab_type": "code",
        "outputId": "6113b04a-993e-466f-f502-8ae23ee00d96",
        "colab": {
          "base_uri": "https://localhost:8080/",
          "height": 300
        }
      },
      "source": [
        "sns.heatmap(CM, annot=True, fmt=\"d\")\n",
        "plt.xlabel(\"Predicted label\")\n",
        "plt.ylabel(\"True label\")"
      ],
      "execution_count": 0,
      "outputs": [
        {
          "output_type": "execute_result",
          "data": {
            "text/plain": [
              "Text(33.0, 0.5, 'True label')"
            ]
          },
          "metadata": {
            "tags": []
          },
          "execution_count": 21
        },
        {
          "output_type": "display_data",
          "data": {
            "image/png": "[encoded data removed]",
            "text/plain": [
              "<Figure size 432x288 with 2 Axes>"
            ]
          },
          "metadata": {
            "tags": []
          }
        }
      ]
    },
    {
      "cell_type": "code",
      "metadata": {
        "id": "hoDEJ8mOg4Fm",
        "colab_type": "code",
        "outputId": "9cc99b05-2f65-4c99-c945-3f0800c09a53",
        "colab": {
          "base_uri": "https://localhost:8080/",
          "height": 185
        }
      },
      "source": [
        "sum=0\n",
        "for i in range(10):\n",
        "  for j in range(10):\n",
        "    sum+=CM[i][j]\n",
        "    if(i==j):\n",
        "      x=CM[i][j]\n",
        "  print(i,\" \",x/sum)\n",
        "  sum=0"
      ],
      "execution_count": 0,
      "outputs": [
        {
          "output_type": "stream",
          "text": [
            "0   0.9504132231404959\n",
            "1   0.8620689655172413\n",
            "2   0.7421875\n",
            "3   0.872093023255814\n",
            "4   0.9807692307692307\n",
            "5   0.9391304347826087\n",
            "6   1.0\n",
            "7   0.8527131782945736\n",
            "8   0.9758064516129032\n",
            "9   0.8346456692913385\n"
          ],
          "name": "stdout"
        }
      ]
    },
    {
      "cell_type": "code",
      "metadata": {
        "id": "KML-1jV2LUzv",
        "colab_type": "code",
        "colab": {}
      },
      "source": [
        "# np.save('/content/drive/My Drive/Noisy_Sound_Classification/UrbanSound8K/mfcc_train_acc.npy', history.history['acc'])\n",
        "# np.save('/content/drive/My Drive/Noisy_Sound_Classification/UrbanSound8K/mfcc_test_acc.npy', history.history['val_acc'])\n",
        "# np.save('/content/drive/My Drive/Noisy_Sound_Classification/UrbanSound8K/mfcc_train_loss.npy', history.history['loss'])\n",
        "# np.save('/content/drive/My Drive/Noisy_Sound_Classification/UrbanSound8K/mfcc_test_loss.npy', history.history['val_loss']) "
      ],
      "execution_count": 0,
      "outputs": []
    },
    {
      "cell_type": "code",
      "metadata": {
        "id": "G504-I20HtTh",
        "colab_type": "code",
        "outputId": "e4d52b17-b0e7-4646-a835-bd453ceec56e",
        "colab": {
          "base_uri": "https://localhost:8080/",
          "height": 470
        }
      },
      "source": [
        "print(pred)"
      ],
      "execution_count": 0,
      "outputs": [
        {
          "output_type": "stream",
          "text": [
            "[9 9 5 4 8 7 2 9 8 7 6 0 3 4 2 8 4 2 3 8 8 7 4 4 9 8 5 5 4 5 2 9 8 5 3 5 4\n",
            " 3 0 0 8 3 3 8 4 2 8 0 3 4 5 1 7 2 0 4 4 8 8 7 0 8 3 0 0 9 4 8 8 5 0 1 9 9\n",
            " 8 9 7 8 4 8 9 7 3 0 4 0 0 9 0 0 7 4 8 2 7 4 5 3 2 2 0 3 9 3 4 0 3 2 9 3 5\n",
            " 8 8 5 3 4 8 5 8 7 9 0 9 4 4 4 3 0 2 4 6 9 8 2 4 4 8 2 2 7 2 5 5 9 4 2 1 9\n",
            " 4 3 0 9 5 9 2 4 2 9 2 7 3 0 0 8 5 5 3 0 4 7 8 5 3 5 7 7 2 8 0 0 5 0 7 4 5\n",
            " 4 2 0 0 3 4 9 4 7 0 7 9 4 7 0 7 9 5 0 1 2 7 5 8 5 8 5 1 7 5 7 4 2 1 9 5 0\n",
            " 9 9 3 0 4 7 8 8 5 2 8 8 9 4 2 1 9 0 4 3 3 4 5 1 9 1 4 5 0 4 0 5 7 0 7 2 8\n",
            " 2 5 0 8 9 4 9 8 3 3 4 7 7 7 0 2 2 3 0 3 1 5 2 9 7 5 0 4 5 3 4 3 0 2 9 9 2\n",
            " 9 7 9 9 7 2 0 9 2 3 7 3 7 4 4 0 9 3 7 5 9 4 2 5 3 0 0 4 5 5 5 0 2 2 4 7 7\n",
            " 0 2 8 7 0 0 2 7 8 4 4 4 8 0 8 7 7 0 4 0 9 5 4 5 7 9 7 8 3 3 0 2 5 7 3 4 3\n",
            " 4 2 4 5 9 9 9 0 8 7 4 1 0 9 7 8 7 2 8 5 2 7 4 9 5 9 2 1 4 8 8 9 8 6 4 9 7\n",
            " 9 0 8 2 9 5 0 7 8 0 0 9 0 8 5 6 4 0 8 2 0 2 4 2 8 8 9 0 0 7 7 7 2 5 9 1 2\n",
            " 5 7 5 2 8 9 3 8 5 2 5 8 4 1 2 2 5 2 2 0 2 5 5 8 4 7 5 9 0 0 0 5 9 5 3 7 4\n",
            " 2 2 1 2 3 0 4 7 4 3 2 4 7 8 0 4 8 7 2 9 4 7 1 4 2 8 9 9 5 9 0 9 4 0 0 8 0\n",
            " 5 2 8 0 0 4 5 8 4 3 8 2 4 5 7 2 4 8 0 0 7 3 1 0 2 9 5 9 0 3 4 9 9 2 7 7 5\n",
            " 5 2 9 3 8 9 7 2 5 7 2 4 4 9 8 9 3 5 7 4 7 7 9 0 4 2 0 8 4 9 9 8 7 3 4 4 0\n",
            " 4 0 5 4 0 3 9 5 9 9 0 9 3 0 2 0 8 9 8 8 8 4 8 5 5 4 2 9 5 4 7 2 9 8 2 7 5\n",
            " 1 9 3 8 9 0 0 8 8 3 9 8 8 3 4 7 9 9 2 3 7 9 4 9 2 9 0 4 8 7 5 4 2 3 9 3 8\n",
            " 0 0 5 4 3 7 5 0 0 9 8 5 9 9 5 3 9 8 9 4 3 9 8 7 9 5 2 2 7 8 7 3 5 3 4 8 0\n",
            " 5 3 0 9 5 9 5 4 8 8 0 0 5 8 8 8 8 4 5 4 4 8 4 9 9 4 9 5 9 7 8 4 7 0 4 8 9\n",
            " 3 7 5 7 9 4 0 2 8 1 4 9 9 7 7 7 9 4 0 5 0 2 3 9 4 0 2 9 5 5 8 4 4 0 3 5 8\n",
            " 8 9 2 8 9 8 4 0 7 7 4 4 7 5 8 7 2 8 9 7 0 3 2 8 4 5 4 5 8 8 2 7 7 8 7 2 7\n",
            " 1 0 9 9 8 7 5 8 5 4 1 0 8 3 0 6 7 1 2 2 5 2 9 7 9 2 4 2 8 8 4 5 2 8 2 5 5\n",
            " 0 9 1 5 9 5 7 1 7 5 4 9 9 0 7 4 3 5 4 7 0 3 3 8 8 4 2 3 0 3 8 0 0 2 9 2 8\n",
            " 4 7 4 4 4 7 9 9 9 4 3 0 8 8 9 5 3 9 5 2 7 2 9 7 8 2 0 3 9 8 3 3 7 2 8 9 1\n",
            " 8 9 7 4 4 9 3 8 8 7 7 7 7 0 8 9 5 2 8 7 4 0 9 9 5 4 4 9 4 5 0 5 9 5 7 4 0\n",
            " 5 0 8 3 0 0]\n"
          ],
          "name": "stdout"
        }
      ]
    },
    {
      "cell_type": "code",
      "metadata": {
        "id": "pTI9ZV2ZIic0",
        "colab_type": "code",
        "colab": {}
      },
      "source": [
        ""
      ],
      "execution_count": 0,
      "outputs": []
    }
  ]
}